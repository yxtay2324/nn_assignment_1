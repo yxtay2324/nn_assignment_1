{
 "cells": [
  {
   "cell_type": "markdown",
   "metadata": {
    "id": "6svEX4UE2txX"
   },
   "source": [
    "# Use [markdown](https://www.markdownguide.org/basic-syntax/) to label each (sub)question neatly.\n",
    "\n",
    "This notebook serves as your report. All your answers should be presented within it. \n",
    "\n",
    "You can submit multiple notebooks (e.g. 1 notebook per part / question).\n",
    "\n",
    "Before submission, remember to tidy up the notebook and retain only relevant parts."
   ]
  },
  {
   "cell_type": "code",
   "execution_count": 1,
   "metadata": {
    "id": "vr3BLitFduby"
   },
   "outputs": [],
   "source": [
    "import time\n",
    "\n",
    "import pandas as pd\n",
    "import seaborn as sns\n",
    "import matplotlib.pyplot as plt\n",
    "\n",
    "import IPython.display as ipd\n",
    "\n",
    "from scipy.io import wavfile as wav\n",
    "\n",
    "from sklearn import preprocessing\n",
    "from sklearn.model_selection import KFold\n",
    "from sklearn.model_selection import train_test_split\n",
    "from sklearn.metrics import f1_score, precision_score, recall_score, confusion_matrix\n",
    "\n",
    "import tensorflow.keras as keras\n",
    "from tensorflow.keras import Sequential\n",
    "from tensorflow.keras.layers import *\n",
    "from tensorflow.keras.regularizers import l2\n",
    "from tensorflow.keras.callbacks import ReduceLROnPlateau,EarlyStopping,ModelCheckpoint,LearningRateScheduler"
   ]
  },
  {
   "cell_type": "code",
   "execution_count": 2,
   "metadata": {
    "id": "YM8unKH7nSIM"
   },
   "outputs": [],
   "source": [
    "SEED = 42\n",
    "\n",
    "import os\n",
    "os.environ['TF_CUDNN_DETERMINISTIC'] = '1'\n",
    "\n",
    "import random \n",
    "random.seed(SEED)\n",
    "\n",
    "import numpy as np\n",
    "np.random.seed(SEED)\n",
    "\n",
    "import tensorflow as tf\n",
    "tf.random.set_seed(SEED)"
   ]
  },
  {
   "cell_type": "markdown",
   "metadata": {
    "id": "gmTBl3xoqA9g"
   },
   "source": [
    "# Read Data"
   ]
  },
  {
   "cell_type": "code",
   "execution_count": 3,
   "metadata": {
    "colab": {
     "base_uri": "https://localhost:8080/",
     "height": 299
    },
    "executionInfo": {
     "elapsed": 4589,
     "status": "ok",
     "timestamp": 1662260271114,
     "user": {
      "displayName": "Charlene Ong",
      "userId": "03736080249243350451"
     },
     "user_tz": -480
    },
    "id": "An4b9d12p8u2",
    "outputId": "9a98bab2-1ccb-4eb5-94ef-48a1bb150fb9"
   },
   "outputs": [
    {
     "data": {
      "text/html": [
       "<div>\n",
       "<style scoped>\n",
       "    .dataframe tbody tr th:only-of-type {\n",
       "        vertical-align: middle;\n",
       "    }\n",
       "\n",
       "    .dataframe tbody tr th {\n",
       "        vertical-align: top;\n",
       "    }\n",
       "\n",
       "    .dataframe thead th {\n",
       "        text-align: right;\n",
       "    }\n",
       "</style>\n",
       "<table border=\"1\" class=\"dataframe\">\n",
       "  <thead>\n",
       "    <tr style=\"text-align: right;\">\n",
       "      <th></th>\n",
       "      <th>filename</th>\n",
       "      <th>tempo</th>\n",
       "      <th>total_beats</th>\n",
       "      <th>average_beats</th>\n",
       "      <th>chroma_stft_mean</th>\n",
       "      <th>chroma_stft_var</th>\n",
       "      <th>chroma_cq_mean</th>\n",
       "      <th>chroma_cq_var</th>\n",
       "      <th>chroma_cens_mean</th>\n",
       "      <th>chroma_cens_var</th>\n",
       "      <th>...</th>\n",
       "      <th>mfcc15_mean</th>\n",
       "      <th>mfcc15_var</th>\n",
       "      <th>mfcc16_mean</th>\n",
       "      <th>mfcc16_var</th>\n",
       "      <th>mfcc17_mean</th>\n",
       "      <th>mfcc17_var</th>\n",
       "      <th>mfcc18_mean</th>\n",
       "      <th>mfcc18_var</th>\n",
       "      <th>mfcc19_mean</th>\n",
       "      <th>mfcc19_var</th>\n",
       "    </tr>\n",
       "  </thead>\n",
       "  <tbody>\n",
       "    <tr>\n",
       "      <th>0</th>\n",
       "      <td>app_3001_4001_phnd_neg_0000.wav</td>\n",
       "      <td>184.570312</td>\n",
       "      <td>623</td>\n",
       "      <td>69.222222</td>\n",
       "      <td>0.515281</td>\n",
       "      <td>0.093347</td>\n",
       "      <td>0.443441</td>\n",
       "      <td>0.082742</td>\n",
       "      <td>0.249143</td>\n",
       "      <td>0.021261</td>\n",
       "      <td>...</td>\n",
       "      <td>-10.669799</td>\n",
       "      <td>63.340282</td>\n",
       "      <td>1.811605</td>\n",
       "      <td>58.117188</td>\n",
       "      <td>-3.286546</td>\n",
       "      <td>54.268448</td>\n",
       "      <td>-2.719069</td>\n",
       "      <td>59.548176</td>\n",
       "      <td>-4.559987</td>\n",
       "      <td>70.774803</td>\n",
       "    </tr>\n",
       "    <tr>\n",
       "      <th>1</th>\n",
       "      <td>app_3001_4001_phnd_neg_0001.wav</td>\n",
       "      <td>151.999081</td>\n",
       "      <td>521</td>\n",
       "      <td>74.428571</td>\n",
       "      <td>0.487201</td>\n",
       "      <td>0.094461</td>\n",
       "      <td>0.542182</td>\n",
       "      <td>0.073359</td>\n",
       "      <td>0.274423</td>\n",
       "      <td>0.008025</td>\n",
       "      <td>...</td>\n",
       "      <td>-5.666375</td>\n",
       "      <td>90.256195</td>\n",
       "      <td>1.573594</td>\n",
       "      <td>105.070496</td>\n",
       "      <td>-0.742024</td>\n",
       "      <td>82.417496</td>\n",
       "      <td>-1.961745</td>\n",
       "      <td>119.312355</td>\n",
       "      <td>1.513660</td>\n",
       "      <td>101.014572</td>\n",
       "    </tr>\n",
       "    <tr>\n",
       "      <th>2</th>\n",
       "      <td>app_3001_4001_phnd_neg_0002.wav</td>\n",
       "      <td>112.347147</td>\n",
       "      <td>1614</td>\n",
       "      <td>146.727273</td>\n",
       "      <td>0.444244</td>\n",
       "      <td>0.099268</td>\n",
       "      <td>0.442014</td>\n",
       "      <td>0.083224</td>\n",
       "      <td>0.264430</td>\n",
       "      <td>0.013410</td>\n",
       "      <td>...</td>\n",
       "      <td>-5.502390</td>\n",
       "      <td>73.079750</td>\n",
       "      <td>0.202623</td>\n",
       "      <td>72.040550</td>\n",
       "      <td>-4.021009</td>\n",
       "      <td>73.844353</td>\n",
       "      <td>-5.916223</td>\n",
       "      <td>103.834824</td>\n",
       "      <td>-2.939086</td>\n",
       "      <td>113.598824</td>\n",
       "    </tr>\n",
       "    <tr>\n",
       "      <th>3</th>\n",
       "      <td>app_3001_4001_phnd_neg_0003.wav</td>\n",
       "      <td>107.666016</td>\n",
       "      <td>2060</td>\n",
       "      <td>158.461538</td>\n",
       "      <td>0.454156</td>\n",
       "      <td>0.100834</td>\n",
       "      <td>0.424370</td>\n",
       "      <td>0.084435</td>\n",
       "      <td>0.257672</td>\n",
       "      <td>0.016938</td>\n",
       "      <td>...</td>\n",
       "      <td>-8.812989</td>\n",
       "      <td>93.791893</td>\n",
       "      <td>-0.429413</td>\n",
       "      <td>60.002579</td>\n",
       "      <td>-4.013513</td>\n",
       "      <td>82.544540</td>\n",
       "      <td>-5.858006</td>\n",
       "      <td>84.402092</td>\n",
       "      <td>0.686969</td>\n",
       "      <td>90.126389</td>\n",
       "    </tr>\n",
       "    <tr>\n",
       "      <th>4</th>\n",
       "      <td>app_3001_4001_phnd_neg_0004.wav</td>\n",
       "      <td>75.999540</td>\n",
       "      <td>66</td>\n",
       "      <td>33.000000</td>\n",
       "      <td>0.478780</td>\n",
       "      <td>0.100000</td>\n",
       "      <td>0.414859</td>\n",
       "      <td>0.089313</td>\n",
       "      <td>0.252143</td>\n",
       "      <td>0.019757</td>\n",
       "      <td>...</td>\n",
       "      <td>-6.584204</td>\n",
       "      <td>64.973305</td>\n",
       "      <td>0.744403</td>\n",
       "      <td>68.908516</td>\n",
       "      <td>-6.354805</td>\n",
       "      <td>66.414391</td>\n",
       "      <td>-6.555534</td>\n",
       "      <td>47.852840</td>\n",
       "      <td>-4.809713</td>\n",
       "      <td>73.033966</td>\n",
       "    </tr>\n",
       "    <tr>\n",
       "      <th>...</th>\n",
       "      <td>...</td>\n",
       "      <td>...</td>\n",
       "      <td>...</td>\n",
       "      <td>...</td>\n",
       "      <td>...</td>\n",
       "      <td>...</td>\n",
       "      <td>...</td>\n",
       "      <td>...</td>\n",
       "      <td>...</td>\n",
       "      <td>...</td>\n",
       "      <td>...</td>\n",
       "      <td>...</td>\n",
       "      <td>...</td>\n",
       "      <td>...</td>\n",
       "      <td>...</td>\n",
       "      <td>...</td>\n",
       "      <td>...</td>\n",
       "      <td>...</td>\n",
       "      <td>...</td>\n",
       "      <td>...</td>\n",
       "      <td>...</td>\n",
       "    </tr>\n",
       "    <tr>\n",
       "      <th>182249</th>\n",
       "      <td>app_3773_5546_phnd_pos_0054.wav</td>\n",
       "      <td>172.265625</td>\n",
       "      <td>1198</td>\n",
       "      <td>99.833333</td>\n",
       "      <td>0.620618</td>\n",
       "      <td>0.070292</td>\n",
       "      <td>0.381610</td>\n",
       "      <td>0.081022</td>\n",
       "      <td>0.239084</td>\n",
       "      <td>0.026172</td>\n",
       "      <td>...</td>\n",
       "      <td>-5.338770</td>\n",
       "      <td>81.940697</td>\n",
       "      <td>-5.307585</td>\n",
       "      <td>102.843636</td>\n",
       "      <td>2.587634</td>\n",
       "      <td>59.694859</td>\n",
       "      <td>-6.465442</td>\n",
       "      <td>90.452126</td>\n",
       "      <td>-5.180311</td>\n",
       "      <td>69.693237</td>\n",
       "    </tr>\n",
       "    <tr>\n",
       "      <th>182250</th>\n",
       "      <td>app_3773_5546_phnd_pos_0055.wav</td>\n",
       "      <td>78.302557</td>\n",
       "      <td>306</td>\n",
       "      <td>76.500000</td>\n",
       "      <td>0.612606</td>\n",
       "      <td>0.070161</td>\n",
       "      <td>0.402439</td>\n",
       "      <td>0.081770</td>\n",
       "      <td>0.242212</td>\n",
       "      <td>0.024667</td>\n",
       "      <td>...</td>\n",
       "      <td>-6.690513</td>\n",
       "      <td>108.272583</td>\n",
       "      <td>-5.633468</td>\n",
       "      <td>85.068466</td>\n",
       "      <td>3.843521</td>\n",
       "      <td>61.155022</td>\n",
       "      <td>-6.021213</td>\n",
       "      <td>80.570854</td>\n",
       "      <td>-3.540390</td>\n",
       "      <td>73.617676</td>\n",
       "    </tr>\n",
       "    <tr>\n",
       "      <th>182251</th>\n",
       "      <td>app_3773_5546_phnd_pos_0056.wav</td>\n",
       "      <td>112.347147</td>\n",
       "      <td>1380</td>\n",
       "      <td>125.454545</td>\n",
       "      <td>0.635446</td>\n",
       "      <td>0.060374</td>\n",
       "      <td>0.389387</td>\n",
       "      <td>0.085514</td>\n",
       "      <td>0.236210</td>\n",
       "      <td>0.027538</td>\n",
       "      <td>...</td>\n",
       "      <td>-7.048096</td>\n",
       "      <td>96.782806</td>\n",
       "      <td>-5.787949</td>\n",
       "      <td>78.352753</td>\n",
       "      <td>-1.718377</td>\n",
       "      <td>59.865887</td>\n",
       "      <td>-5.130420</td>\n",
       "      <td>64.361443</td>\n",
       "      <td>-3.386290</td>\n",
       "      <td>50.095055</td>\n",
       "    </tr>\n",
       "    <tr>\n",
       "      <th>182252</th>\n",
       "      <td>app_3773_5546_phnd_pos_0057.wav</td>\n",
       "      <td>198.768029</td>\n",
       "      <td>2364</td>\n",
       "      <td>118.200000</td>\n",
       "      <td>0.627674</td>\n",
       "      <td>0.065552</td>\n",
       "      <td>0.396143</td>\n",
       "      <td>0.079859</td>\n",
       "      <td>0.244746</td>\n",
       "      <td>0.023433</td>\n",
       "      <td>...</td>\n",
       "      <td>-8.338559</td>\n",
       "      <td>100.234261</td>\n",
       "      <td>-5.238555</td>\n",
       "      <td>83.026726</td>\n",
       "      <td>-3.655035</td>\n",
       "      <td>84.823341</td>\n",
       "      <td>-5.556218</td>\n",
       "      <td>57.476173</td>\n",
       "      <td>-0.247402</td>\n",
       "      <td>50.155182</td>\n",
       "    </tr>\n",
       "    <tr>\n",
       "      <th>182253</th>\n",
       "      <td>app_3773_5546_phnd_pos_0058.wav</td>\n",
       "      <td>89.102909</td>\n",
       "      <td>230</td>\n",
       "      <td>57.500000</td>\n",
       "      <td>0.572914</td>\n",
       "      <td>0.084075</td>\n",
       "      <td>0.368750</td>\n",
       "      <td>0.099075</td>\n",
       "      <td>0.241772</td>\n",
       "      <td>0.024880</td>\n",
       "      <td>...</td>\n",
       "      <td>-6.618259</td>\n",
       "      <td>127.961243</td>\n",
       "      <td>-10.674469</td>\n",
       "      <td>117.830101</td>\n",
       "      <td>-4.390059</td>\n",
       "      <td>84.200218</td>\n",
       "      <td>-5.606098</td>\n",
       "      <td>69.405533</td>\n",
       "      <td>-2.391726</td>\n",
       "      <td>58.814247</td>\n",
       "    </tr>\n",
       "  </tbody>\n",
       "</table>\n",
       "<p>182254 rows × 78 columns</p>\n",
       "</div>"
      ],
      "text/plain": [
       "                               filename       tempo  total_beats  \\\n",
       "0       app_3001_4001_phnd_neg_0000.wav  184.570312          623   \n",
       "1       app_3001_4001_phnd_neg_0001.wav  151.999081          521   \n",
       "2       app_3001_4001_phnd_neg_0002.wav  112.347147         1614   \n",
       "3       app_3001_4001_phnd_neg_0003.wav  107.666016         2060   \n",
       "4       app_3001_4001_phnd_neg_0004.wav   75.999540           66   \n",
       "...                                 ...         ...          ...   \n",
       "182249  app_3773_5546_phnd_pos_0054.wav  172.265625         1198   \n",
       "182250  app_3773_5546_phnd_pos_0055.wav   78.302557          306   \n",
       "182251  app_3773_5546_phnd_pos_0056.wav  112.347147         1380   \n",
       "182252  app_3773_5546_phnd_pos_0057.wav  198.768029         2364   \n",
       "182253  app_3773_5546_phnd_pos_0058.wav   89.102909          230   \n",
       "\n",
       "        average_beats  chroma_stft_mean  chroma_stft_var  chroma_cq_mean  \\\n",
       "0           69.222222          0.515281         0.093347        0.443441   \n",
       "1           74.428571          0.487201         0.094461        0.542182   \n",
       "2          146.727273          0.444244         0.099268        0.442014   \n",
       "3          158.461538          0.454156         0.100834        0.424370   \n",
       "4           33.000000          0.478780         0.100000        0.414859   \n",
       "...               ...               ...              ...             ...   \n",
       "182249      99.833333          0.620618         0.070292        0.381610   \n",
       "182250      76.500000          0.612606         0.070161        0.402439   \n",
       "182251     125.454545          0.635446         0.060374        0.389387   \n",
       "182252     118.200000          0.627674         0.065552        0.396143   \n",
       "182253      57.500000          0.572914         0.084075        0.368750   \n",
       "\n",
       "        chroma_cq_var  chroma_cens_mean  chroma_cens_var  ...  mfcc15_mean  \\\n",
       "0            0.082742          0.249143         0.021261  ...   -10.669799   \n",
       "1            0.073359          0.274423         0.008025  ...    -5.666375   \n",
       "2            0.083224          0.264430         0.013410  ...    -5.502390   \n",
       "3            0.084435          0.257672         0.016938  ...    -8.812989   \n",
       "4            0.089313          0.252143         0.019757  ...    -6.584204   \n",
       "...               ...               ...              ...  ...          ...   \n",
       "182249       0.081022          0.239084         0.026172  ...    -5.338770   \n",
       "182250       0.081770          0.242212         0.024667  ...    -6.690513   \n",
       "182251       0.085514          0.236210         0.027538  ...    -7.048096   \n",
       "182252       0.079859          0.244746         0.023433  ...    -8.338559   \n",
       "182253       0.099075          0.241772         0.024880  ...    -6.618259   \n",
       "\n",
       "        mfcc15_var  mfcc16_mean  mfcc16_var  mfcc17_mean  mfcc17_var  \\\n",
       "0        63.340282     1.811605   58.117188    -3.286546   54.268448   \n",
       "1        90.256195     1.573594  105.070496    -0.742024   82.417496   \n",
       "2        73.079750     0.202623   72.040550    -4.021009   73.844353   \n",
       "3        93.791893    -0.429413   60.002579    -4.013513   82.544540   \n",
       "4        64.973305     0.744403   68.908516    -6.354805   66.414391   \n",
       "...            ...          ...         ...          ...         ...   \n",
       "182249   81.940697    -5.307585  102.843636     2.587634   59.694859   \n",
       "182250  108.272583    -5.633468   85.068466     3.843521   61.155022   \n",
       "182251   96.782806    -5.787949   78.352753    -1.718377   59.865887   \n",
       "182252  100.234261    -5.238555   83.026726    -3.655035   84.823341   \n",
       "182253  127.961243   -10.674469  117.830101    -4.390059   84.200218   \n",
       "\n",
       "        mfcc18_mean  mfcc18_var  mfcc19_mean  mfcc19_var  \n",
       "0         -2.719069   59.548176    -4.559987   70.774803  \n",
       "1         -1.961745  119.312355     1.513660  101.014572  \n",
       "2         -5.916223  103.834824    -2.939086  113.598824  \n",
       "3         -5.858006   84.402092     0.686969   90.126389  \n",
       "4         -6.555534   47.852840    -4.809713   73.033966  \n",
       "...             ...         ...          ...         ...  \n",
       "182249    -6.465442   90.452126    -5.180311   69.693237  \n",
       "182250    -6.021213   80.570854    -3.540390   73.617676  \n",
       "182251    -5.130420   64.361443    -3.386290   50.095055  \n",
       "182252    -5.556218   57.476173    -0.247402   50.155182  \n",
       "182253    -5.606098   69.405533    -2.391726   58.814247  \n",
       "\n",
       "[182254 rows x 78 columns]"
      ]
     },
     "execution_count": 3,
     "metadata": {},
     "output_type": "execute_result"
    }
   ],
   "source": [
    "df = pd.read_csv('./full.csv') \n",
    "df"
   ]
  },
  {
   "cell_type": "code",
   "execution_count": 4,
   "metadata": {
    "id": "6AI_2ZahhQtk"
   },
   "outputs": [],
   "source": [
    "df['label'] = df['filename'].str.split('_').str[-2]"
   ]
  },
  {
   "cell_type": "code",
   "execution_count": 5,
   "metadata": {
    "colab": {
     "base_uri": "https://localhost:8080/"
    },
    "executionInfo": {
     "elapsed": 26,
     "status": "ok",
     "timestamp": 1662260293147,
     "user": {
      "displayName": "Charlene Ong",
      "userId": "03736080249243350451"
     },
     "user_tz": -480
    },
    "id": "CHZQbQVzqGIA",
    "outputId": "bbce60f3-efba-4270-caf4-9fe4481337cb"
   },
   "outputs": [
    {
     "data": {
      "text/plain": [
       "pos    92826\n",
       "neg    89428\n",
       "Name: label, dtype: int64"
      ]
     },
     "execution_count": 5,
     "metadata": {},
     "output_type": "execute_result"
    }
   ],
   "source": [
    "df['label'].value_counts()"
   ]
  },
  {
   "cell_type": "markdown",
   "metadata": {
    "id": "1zp_RDMgqL9Z"
   },
   "source": [
    "Split and scale dataset"
   ]
  },
  {
   "cell_type": "code",
   "execution_count": 6,
   "metadata": {
    "id": "2fNTd9t7qHCI"
   },
   "outputs": [],
   "source": [
    "\n",
    "columns_to_drop = ['label','filename']\n",
    "\n",
    "def split_dataset(df, columns_to_drop, test_size, random_state=None):\n",
    "  label_encoder = preprocessing.LabelEncoder()\n",
    "\n",
    "  df['label'] = label_encoder.fit_transform(df['label'])\n",
    "\n",
    "  df_train, df_test = train_test_split(df, test_size=test_size, random_state=random_state)\n",
    "\n",
    "  df_train2 = df_train.drop(columns_to_drop,axis=1)\n",
    "  y_train2 = df_train['label'].to_numpy()\n",
    "\n",
    "  df_test2 = df_test.drop(columns_to_drop,axis=1)\n",
    "  y_test2 = df_test['label'].to_numpy() \n",
    "\n",
    "  return df_train2, y_train2, df_test2, y_test2\n",
    "\n",
    "def preprocess_dataset(df_train, df_test):\n",
    "\n",
    "  standard_scaler = preprocessing.StandardScaler()\n",
    "  df_train_scaled = standard_scaler.fit_transform(df_train)\n",
    "\n",
    "  df_test_scaled = standard_scaler.transform(df_test)\n",
    "\n",
    "  return df_train_scaled, df_test_scaled\n",
    "\n",
    "X_train, y_train, X_test, y_test = split_dataset(df, columns_to_drop, test_size=0.3, random_state=0) # positive labels being encoded as 1\n",
    "\n",
    "X_train_scaled, X_test_scaled = preprocess_dataset(X_train, X_test)"
   ]
  },
  {
   "cell_type": "markdown",
   "metadata": {},
   "source": [
    "# Q1"
   ]
  },
  {
   "cell_type": "code",
   "execution_count": 7,
   "metadata": {
    "tags": []
   },
   "outputs": [],
   "source": [
    "def FNN():\n",
    "    model = Sequential([\n",
    "        Dense(128, activation=\"relu\", input_shape=(77,)),\n",
    "        Dropout(0.2),\n",
    "        Dense(128, activation=\"relu\"),\n",
    "        Dropout(0.2),\n",
    "        Dense(128, activation=\"relu\"),\n",
    "        Dropout(0.2),\n",
    "        Dense(1, activation=\"sigmoid\")\n",
    "    ])\n",
    "\n",
    "    adamOptimizer = tf.keras.optimizers.Adam(0.001)\n",
    "\n",
    "    callback = tf.keras.callbacks.EarlyStopping(monitor='loss', patience=3)\n",
    "    \n",
    "    model.compile(optimizer=adamOptimizer,\n",
    "                  loss='binary_crossentropy',\n",
    "                  metrics=['accuracy'])\n",
    "\n",
    "    return model\n",
    "\n",
    "model = FNN()"
   ]
  },
  {
   "cell_type": "code",
   "execution_count": 8,
   "metadata": {
    "tags": []
   },
   "outputs": [
    {
     "name": "stdout",
     "output_type": "stream",
     "text": [
      "Epoch 1/100\n",
      "499/499 [==============================] - 2s 3ms/step - loss: 0.6897 - accuracy: 0.5362 - val_loss: 0.6845 - val_accuracy: 0.5547\n",
      "Epoch 2/100\n",
      "499/499 [==============================] - 1s 3ms/step - loss: 0.6834 - accuracy: 0.5520 - val_loss: 0.6810 - val_accuracy: 0.5583\n",
      "Epoch 3/100\n",
      "499/499 [==============================] - 1s 3ms/step - loss: 0.6800 - accuracy: 0.5606 - val_loss: 0.6799 - val_accuracy: 0.5618\n",
      "Epoch 4/100\n",
      "499/499 [==============================] - 1s 3ms/step - loss: 0.6770 - accuracy: 0.5656 - val_loss: 0.6767 - val_accuracy: 0.5681\n",
      "Epoch 5/100\n",
      "499/499 [==============================] - 1s 3ms/step - loss: 0.6738 - accuracy: 0.5737 - val_loss: 0.6728 - val_accuracy: 0.5760\n",
      "Epoch 6/100\n",
      "499/499 [==============================] - 1s 3ms/step - loss: 0.6705 - accuracy: 0.5792 - val_loss: 0.6703 - val_accuracy: 0.5808\n",
      "Epoch 7/100\n",
      "499/499 [==============================] - 1s 3ms/step - loss: 0.6667 - accuracy: 0.5851 - val_loss: 0.6674 - val_accuracy: 0.5895\n",
      "Epoch 8/100\n",
      "499/499 [==============================] - 1s 3ms/step - loss: 0.6627 - accuracy: 0.5909 - val_loss: 0.6640 - val_accuracy: 0.5887\n",
      "Epoch 9/100\n",
      "499/499 [==============================] - 1s 3ms/step - loss: 0.6595 - accuracy: 0.5958 - val_loss: 0.6602 - val_accuracy: 0.5990\n",
      "Epoch 10/100\n",
      "499/499 [==============================] - 1s 3ms/step - loss: 0.6570 - accuracy: 0.5979 - val_loss: 0.6584 - val_accuracy: 0.5997\n",
      "Epoch 11/100\n",
      "499/499 [==============================] - 1s 3ms/step - loss: 0.6529 - accuracy: 0.6056 - val_loss: 0.6541 - val_accuracy: 0.6076\n",
      "Epoch 12/100\n",
      "499/499 [==============================] - 1s 3ms/step - loss: 0.6497 - accuracy: 0.6091 - val_loss: 0.6516 - val_accuracy: 0.6081\n",
      "Epoch 13/100\n",
      "499/499 [==============================] - 1s 3ms/step - loss: 0.6466 - accuracy: 0.6134 - val_loss: 0.6478 - val_accuracy: 0.6130\n",
      "Epoch 14/100\n",
      "499/499 [==============================] - 1s 3ms/step - loss: 0.6421 - accuracy: 0.6181 - val_loss: 0.6453 - val_accuracy: 0.6147\n",
      "Epoch 15/100\n",
      "499/499 [==============================] - 1s 3ms/step - loss: 0.6396 - accuracy: 0.6230 - val_loss: 0.6427 - val_accuracy: 0.6183\n",
      "Epoch 16/100\n",
      "499/499 [==============================] - 1s 3ms/step - loss: 0.6384 - accuracy: 0.6243 - val_loss: 0.6407 - val_accuracy: 0.6230\n",
      "Epoch 17/100\n",
      "499/499 [==============================] - 1s 3ms/step - loss: 0.6347 - accuracy: 0.6282 - val_loss: 0.6381 - val_accuracy: 0.6259\n",
      "Epoch 18/100\n",
      "499/499 [==============================] - 1s 3ms/step - loss: 0.6320 - accuracy: 0.6311 - val_loss: 0.6351 - val_accuracy: 0.6277\n",
      "Epoch 19/100\n",
      "499/499 [==============================] - 2s 3ms/step - loss: 0.6297 - accuracy: 0.6328 - val_loss: 0.6338 - val_accuracy: 0.6285\n",
      "Epoch 20/100\n",
      "499/499 [==============================] - 2s 3ms/step - loss: 0.6275 - accuracy: 0.6358 - val_loss: 0.6322 - val_accuracy: 0.6296\n",
      "Epoch 21/100\n",
      "499/499 [==============================] - 2s 3ms/step - loss: 0.6256 - accuracy: 0.6386 - val_loss: 0.6303 - val_accuracy: 0.6333\n",
      "Epoch 22/100\n",
      "499/499 [==============================] - 1s 3ms/step - loss: 0.6241 - accuracy: 0.6402 - val_loss: 0.6269 - val_accuracy: 0.6374\n",
      "Epoch 23/100\n",
      "499/499 [==============================] - 1s 3ms/step - loss: 0.6208 - accuracy: 0.6441 - val_loss: 0.6278 - val_accuracy: 0.6345\n",
      "Epoch 24/100\n",
      "499/499 [==============================] - 2s 3ms/step - loss: 0.6200 - accuracy: 0.6443 - val_loss: 0.6251 - val_accuracy: 0.6382\n",
      "Epoch 25/100\n",
      "499/499 [==============================] - 1s 3ms/step - loss: 0.6178 - accuracy: 0.6464 - val_loss: 0.6246 - val_accuracy: 0.6394\n",
      "Epoch 26/100\n",
      "499/499 [==============================] - 1s 3ms/step - loss: 0.6164 - accuracy: 0.6472 - val_loss: 0.6219 - val_accuracy: 0.6411\n",
      "Epoch 27/100\n",
      "499/499 [==============================] - 1s 3ms/step - loss: 0.6142 - accuracy: 0.6483 - val_loss: 0.6220 - val_accuracy: 0.6439\n",
      "Epoch 28/100\n",
      "499/499 [==============================] - 1s 3ms/step - loss: 0.6125 - accuracy: 0.6517 - val_loss: 0.6197 - val_accuracy: 0.6458\n",
      "Epoch 29/100\n",
      "499/499 [==============================] - 2s 3ms/step - loss: 0.6118 - accuracy: 0.6513 - val_loss: 0.6181 - val_accuracy: 0.6457\n",
      "Epoch 30/100\n",
      "499/499 [==============================] - 2s 3ms/step - loss: 0.6087 - accuracy: 0.6547 - val_loss: 0.6170 - val_accuracy: 0.6475\n",
      "Epoch 31/100\n",
      "499/499 [==============================] - 1s 3ms/step - loss: 0.6094 - accuracy: 0.6539 - val_loss: 0.6147 - val_accuracy: 0.6499\n",
      "Epoch 32/100\n",
      "499/499 [==============================] - 1s 3ms/step - loss: 0.6074 - accuracy: 0.6573 - val_loss: 0.6158 - val_accuracy: 0.6490\n",
      "Epoch 33/100\n",
      "499/499 [==============================] - 1s 3ms/step - loss: 0.6067 - accuracy: 0.6568 - val_loss: 0.6146 - val_accuracy: 0.6514\n",
      "Epoch 34/100\n",
      "499/499 [==============================] - 1s 3ms/step - loss: 0.6052 - accuracy: 0.6594 - val_loss: 0.6144 - val_accuracy: 0.6519\n",
      "Epoch 35/100\n",
      "499/499 [==============================] - 1s 3ms/step - loss: 0.6035 - accuracy: 0.6585 - val_loss: 0.6134 - val_accuracy: 0.6502\n",
      "Epoch 36/100\n",
      "499/499 [==============================] - 1s 3ms/step - loss: 0.6031 - accuracy: 0.6608 - val_loss: 0.6121 - val_accuracy: 0.6517\n",
      "Epoch 37/100\n",
      "499/499 [==============================] - 1s 3ms/step - loss: 0.6010 - accuracy: 0.6620 - val_loss: 0.6104 - val_accuracy: 0.6533\n",
      "Epoch 38/100\n",
      "499/499 [==============================] - 1s 3ms/step - loss: 0.6000 - accuracy: 0.6637 - val_loss: 0.6099 - val_accuracy: 0.6542\n",
      "Epoch 39/100\n",
      "499/499 [==============================] - 1s 3ms/step - loss: 0.5995 - accuracy: 0.6646 - val_loss: 0.6094 - val_accuracy: 0.6574\n",
      "Epoch 40/100\n",
      "499/499 [==============================] - 1s 3ms/step - loss: 0.5977 - accuracy: 0.6657 - val_loss: 0.6085 - val_accuracy: 0.6579\n",
      "Epoch 41/100\n",
      "499/499 [==============================] - 1s 3ms/step - loss: 0.5981 - accuracy: 0.6642 - val_loss: 0.6086 - val_accuracy: 0.6572\n",
      "Epoch 42/100\n",
      "499/499 [==============================] - 1s 3ms/step - loss: 0.5961 - accuracy: 0.6655 - val_loss: 0.6073 - val_accuracy: 0.6600\n",
      "Epoch 43/100\n",
      "499/499 [==============================] - 1s 3ms/step - loss: 0.5963 - accuracy: 0.6678 - val_loss: 0.6071 - val_accuracy: 0.6575\n",
      "Epoch 44/100\n",
      "499/499 [==============================] - 1s 3ms/step - loss: 0.5942 - accuracy: 0.6695 - val_loss: 0.6070 - val_accuracy: 0.6601\n",
      "Epoch 45/100\n",
      "499/499 [==============================] - 1s 3ms/step - loss: 0.5926 - accuracy: 0.6724 - val_loss: 0.6064 - val_accuracy: 0.6577\n",
      "Epoch 46/100\n",
      "499/499 [==============================] - 1s 3ms/step - loss: 0.5936 - accuracy: 0.6698 - val_loss: 0.6065 - val_accuracy: 0.6583\n",
      "Epoch 47/100\n",
      "499/499 [==============================] - 1s 3ms/step - loss: 0.5906 - accuracy: 0.6702 - val_loss: 0.6049 - val_accuracy: 0.6611\n",
      "Epoch 48/100\n",
      "499/499 [==============================] - 1s 3ms/step - loss: 0.5918 - accuracy: 0.6707 - val_loss: 0.6057 - val_accuracy: 0.6599\n",
      "Epoch 49/100\n",
      "499/499 [==============================] - 1s 3ms/step - loss: 0.5914 - accuracy: 0.6702 - val_loss: 0.6033 - val_accuracy: 0.6597\n",
      "Epoch 50/100\n",
      "499/499 [==============================] - 1s 3ms/step - loss: 0.5900 - accuracy: 0.6748 - val_loss: 0.6031 - val_accuracy: 0.6600\n",
      "Epoch 51/100\n",
      "499/499 [==============================] - 1s 3ms/step - loss: 0.5895 - accuracy: 0.6725 - val_loss: 0.6025 - val_accuracy: 0.6636\n",
      "Epoch 52/100\n",
      "499/499 [==============================] - 1s 3ms/step - loss: 0.5896 - accuracy: 0.6734 - val_loss: 0.6029 - val_accuracy: 0.6634\n",
      "Epoch 53/100\n",
      "499/499 [==============================] - 1s 3ms/step - loss: 0.5857 - accuracy: 0.6767 - val_loss: 0.6024 - val_accuracy: 0.6628\n",
      "Epoch 54/100\n",
      "499/499 [==============================] - 1s 3ms/step - loss: 0.5872 - accuracy: 0.6758 - val_loss: 0.6013 - val_accuracy: 0.6636\n",
      "Epoch 55/100\n",
      "499/499 [==============================] - 1s 3ms/step - loss: 0.5858 - accuracy: 0.6767 - val_loss: 0.5993 - val_accuracy: 0.6668\n",
      "Epoch 56/100\n",
      "499/499 [==============================] - 1s 3ms/step - loss: 0.5854 - accuracy: 0.6767 - val_loss: 0.5970 - val_accuracy: 0.6682\n",
      "Epoch 57/100\n",
      "499/499 [==============================] - 1s 3ms/step - loss: 0.5844 - accuracy: 0.6783 - val_loss: 0.5983 - val_accuracy: 0.6666\n",
      "Epoch 58/100\n",
      "499/499 [==============================] - 1s 3ms/step - loss: 0.5839 - accuracy: 0.6798 - val_loss: 0.5986 - val_accuracy: 0.6661\n",
      "Epoch 59/100\n",
      "499/499 [==============================] - 1s 3ms/step - loss: 0.5855 - accuracy: 0.6760 - val_loss: 0.5967 - val_accuracy: 0.6689\n",
      "Epoch 60/100\n",
      "499/499 [==============================] - 1s 3ms/step - loss: 0.5859 - accuracy: 0.6765 - val_loss: 0.5988 - val_accuracy: 0.6661\n",
      "Epoch 61/100\n",
      "499/499 [==============================] - 1s 3ms/step - loss: 0.5830 - accuracy: 0.6797 - val_loss: 0.5967 - val_accuracy: 0.6677\n",
      "Epoch 62/100\n",
      "499/499 [==============================] - 1s 3ms/step - loss: 0.5825 - accuracy: 0.6798 - val_loss: 0.5964 - val_accuracy: 0.6673\n",
      "Epoch 63/100\n",
      "499/499 [==============================] - 1s 3ms/step - loss: 0.5820 - accuracy: 0.6804 - val_loss: 0.5971 - val_accuracy: 0.6683\n",
      "Epoch 64/100\n",
      "499/499 [==============================] - 1s 3ms/step - loss: 0.5811 - accuracy: 0.6808 - val_loss: 0.5959 - val_accuracy: 0.6696\n",
      "Epoch 65/100\n",
      "499/499 [==============================] - 1s 3ms/step - loss: 0.5813 - accuracy: 0.6798 - val_loss: 0.5949 - val_accuracy: 0.6698\n",
      "Epoch 66/100\n",
      "499/499 [==============================] - 1s 3ms/step - loss: 0.5817 - accuracy: 0.6797 - val_loss: 0.5959 - val_accuracy: 0.6685\n",
      "Epoch 67/100\n",
      "499/499 [==============================] - 1s 3ms/step - loss: 0.5801 - accuracy: 0.6838 - val_loss: 0.5953 - val_accuracy: 0.6680\n",
      "Epoch 68/100\n",
      "499/499 [==============================] - 1s 3ms/step - loss: 0.5811 - accuracy: 0.6821 - val_loss: 0.5955 - val_accuracy: 0.6692\n",
      "Epoch 69/100\n",
      "499/499 [==============================] - 1s 3ms/step - loss: 0.5798 - accuracy: 0.6826 - val_loss: 0.5950 - val_accuracy: 0.6681\n",
      "Epoch 70/100\n",
      "499/499 [==============================] - 1s 3ms/step - loss: 0.5779 - accuracy: 0.6844 - val_loss: 0.5938 - val_accuracy: 0.6686\n",
      "Epoch 71/100\n",
      "499/499 [==============================] - 1s 3ms/step - loss: 0.5788 - accuracy: 0.6836 - val_loss: 0.5952 - val_accuracy: 0.6692\n",
      "Epoch 72/100\n",
      "499/499 [==============================] - 1s 3ms/step - loss: 0.5762 - accuracy: 0.6856 - val_loss: 0.5937 - val_accuracy: 0.6686\n",
      "Epoch 73/100\n",
      "499/499 [==============================] - 1s 3ms/step - loss: 0.5782 - accuracy: 0.6839 - val_loss: 0.5937 - val_accuracy: 0.6698\n",
      "Epoch 74/100\n",
      "499/499 [==============================] - 1s 3ms/step - loss: 0.5758 - accuracy: 0.6849 - val_loss: 0.5919 - val_accuracy: 0.6691\n",
      "Epoch 75/100\n",
      "499/499 [==============================] - 1s 3ms/step - loss: 0.5755 - accuracy: 0.6855 - val_loss: 0.5942 - val_accuracy: 0.6695\n",
      "Epoch 76/100\n",
      "499/499 [==============================] - 1s 3ms/step - loss: 0.5744 - accuracy: 0.6868 - val_loss: 0.5929 - val_accuracy: 0.6703\n",
      "Epoch 77/100\n",
      "499/499 [==============================] - 1s 3ms/step - loss: 0.5755 - accuracy: 0.6873 - val_loss: 0.5928 - val_accuracy: 0.6706\n",
      "Epoch 78/100\n",
      "499/499 [==============================] - 1s 3ms/step - loss: 0.5748 - accuracy: 0.6868 - val_loss: 0.5908 - val_accuracy: 0.6710\n",
      "Epoch 79/100\n",
      "499/499 [==============================] - 1s 3ms/step - loss: 0.5753 - accuracy: 0.6848 - val_loss: 0.5909 - val_accuracy: 0.6713\n"
     ]
    }
   ],
   "source": [
    "callback = tf.keras.callbacks.EarlyStopping(monitor='loss', patience=3)\n",
    "\n",
    "history = model.fit(X_train_scaled, y_train, \n",
    "                    epochs=100, \n",
    "                    batch_size=256, \n",
    "                    verbose = 'auto', \n",
    "                    use_multiprocessing=True,\n",
    "                    callbacks=[callback],\n",
    "                    validation_data=(X_test_scaled, y_test))\n"
   ]
  },
  {
   "cell_type": "code",
   "execution_count": 9,
   "metadata": {},
   "outputs": [
    {
     "data": {
      "image/png": "[encoded data removed]",
      "text/plain": [
       "<PIL.Image.Image image mode=RGBA size=227x63 at 0x1BE9055C1F0>"
      ]
     },
     "execution_count": 9,
     "metadata": {},
     "output_type": "execute_result"
    }
   ],
   "source": [
    "#model.summary()\n",
    "\n",
    "import visualkeras\n",
    "from PIL import ImageFont\n",
    "visualkeras.layered_view(model, legend=True) "
   ]
  },
  {
   "cell_type": "markdown",
   "metadata": {},
   "source": [
    "# Q1b"
   ]
  },
  {
   "cell_type": "code",
   "execution_count": 10,
   "metadata": {},
   "outputs": [
    {
     "data": {
      "text/plain": [
       "<matplotlib.legend.Legend at 0x1be8f4ed970>"
      ]
     },
     "execution_count": 10,
     "metadata": {},
     "output_type": "execute_result"
    },
    {
     "data": {
      "image/png": "[encoded data removed]",
      "text/plain": [
       "<Figure size 432x288 with 1 Axes>"
      ]
     },
     "metadata": {
      "needs_background": "light"
     },
     "output_type": "display_data"
    }
   ],
   "source": [
    "plt.plot(history.history['accuracy'])\n",
    "plt.plot(history.history['val_accuracy'])\n",
    "plt.title('Model accuracy')\n",
    "plt.ylabel('Accuracy')\n",
    "plt.xlabel('Epoch')\n",
    "plt.legend(['Train accuracy', 'Test accuracy'])"
   ]
  },
  {
   "cell_type": "code",
   "execution_count": 11,
   "metadata": {},
   "outputs": [
    {
     "data": {
      "text/plain": [
       "<matplotlib.legend.Legend at 0x1be8f556a30>"
      ]
     },
     "execution_count": 11,
     "metadata": {},
     "output_type": "execute_result"
    },
    {
     "data": {
      "image/png": "[encoded data removed]",
      "text/plain": [
       "<Figure size 432x288 with 1 Axes>"
      ]
     },
     "metadata": {
      "needs_background": "light"
     },
     "output_type": "display_data"
    }
   ],
   "source": [
    "plt.plot(history.history['loss'])\n",
    "plt.plot(history.history['val_loss'])\n",
    "plt.title('Model loss')\n",
    "plt.ylabel('Loss')\n",
    "plt.xlabel('Epoch')\n",
    "plt.legend(['train', 'test'])"
   ]
  },
  {
   "cell_type": "markdown",
   "metadata": {
    "tags": []
   },
   "source": [
    "### Comments\n",
    "Accuracies from both train and test increases every epoch, while the loss from the training and test decreases. <br>\n",
    "As the loss decreases, the accuracy increases. <br>\n",
    "Training accuracies are generally higher than test accuracies because model is optimized for the training set. <br>\n",
    "Early stopping is used to avoid overfitting."
   ]
  },
  {
   "cell_type": "markdown",
   "metadata": {},
   "source": [
    "# Q2"
   ]
  },
  {
   "cell_type": "code",
   "execution_count": 12,
   "metadata": {},
   "outputs": [],
   "source": [
    "class TimeCallBack(keras.callbacks.Callback):\n",
    "    def on_train_begin(self, logs={}):\n",
    "        self.times = []\n",
    "        \n",
    "    def on_epoch_begin(self, batch, logs={}):\n",
    "        self.epoch_time_start = time.time()\n",
    "\n",
    "    def on_epoch_end(self, batch, logs={}):\n",
    "        self.times.append(time.time() - self.epoch_time_start)"
   ]
  },
  {
   "cell_type": "code",
   "execution_count": null,
   "metadata": {
    "tags": []
   },
   "outputs": [
    {
     "name": "stderr",
     "output_type": "stream",
     "text": [
      "C:\\Users\\umer2\\AppData\\Local\\Temp/ipykernel_7012/311917625.py:9: DeprecationWarning: KerasClassifier is deprecated, use Sci-Keras (https://github.com/adriangb/scikeras) instead.\n",
      "  kfold_model = KerasClassifier(build_fn=FNN,\n"
     ]
    }
   ],
   "source": [
    "from keras.wrappers.scikit_learn import KerasClassifier\n",
    "from sklearn.model_selection import cross_val_score\n",
    "\n",
    "batch_sizes = [128, 256, 512, 1024]\n",
    "cv_scores = {}\n",
    "\n",
    "for i in batch_sizes:\n",
    "    batch = {}\n",
    "    kfold_model = KerasClassifier(build_fn=FNN, \n",
    "                                  epochs=100, \n",
    "                                  batch_size=i, \n",
    "                                  verbose=0)\n",
    "\n",
    "    start = time.time()\n",
    "\n",
    "    acc = cross_val_score(kfold_model, X_train_scaled, y_train, cv=5)\n",
    "\n",
    "    end = time.time()\n",
    "    batch['acc'] = acc\n",
    "    batch['time'] = end - start\n",
    "    cv_scores[i] = batch"
   ]
  },
  {
   "cell_type": "markdown",
   "metadata": {},
   "source": [
    "# Q2a"
   ]
  },
  {
   "cell_type": "code",
   "execution_count": null,
   "metadata": {},
   "outputs": [],
   "source": [
    "mean_cv_acc = []\n",
    "\n",
    "for i in cv_scores:\n",
    "    mean = 0\n",
    "    for j in cv_scores[i]['acc']:\n",
    "        mean += j\n",
    "    mean /= 5\n",
    "    mean_cv_acc.append(mean)\n",
    "    \n",
    "plt.scatter(batch_sizes, mean_cv_acc)\n",
    "plt.title('Final epoch mean cross-validation accuracies')\n",
    "plt.ylabel('Accuracy')\n",
    "plt.xlabel('Batch sizes')"
   ]
  },
  {
   "cell_type": "markdown",
   "metadata": {},
   "source": [
    "# Q2b"
   ]
  },
  {
   "cell_type": "code",
   "execution_count": null,
   "metadata": {},
   "outputs": [],
   "source": [
    "final_epoch_time = []\n",
    "\n",
    "for i in cv_scores:\n",
    "    final_epoch_time.append(cv_scores[i]['time']/100)\n",
    "    \n",
    "d = {\n",
    "    'batch size': batch_sizes,\n",
    "    'final epoch timing': final_epoch_time\n",
    "}\n",
    "df_batch = pd.DataFrame(data=d)\n",
    "df_batch"
   ]
  },
  {
   "cell_type": "markdown",
   "metadata": {},
   "source": [
    "# Q2c"
   ]
  },
  {
   "cell_type": "markdown",
   "metadata": {},
   "source": [
    "256 is the optimal batch size, because it has the highest accuracy with a slightly higher training time."
   ]
  },
  {
   "cell_type": "code",
   "execution_count": null,
   "metadata": {},
   "outputs": [],
   "source": [
    "BATCH_OPTIMAL = 256"
   ]
  },
  {
   "cell_type": "markdown",
   "metadata": {},
   "source": [
    "# Q2d"
   ]
  },
  {
   "cell_type": "markdown",
   "metadata": {},
   "source": [
    "When the batch size increases, the training time decreases. This happens because when one batch is large, there are lesser iterations needed in one epoch to complete, thus reducing the time taken to train a large batch."
   ]
  },
  {
   "cell_type": "markdown",
   "metadata": {},
   "source": [
    "# Q2e"
   ]
  },
  {
   "cell_type": "markdown",
   "metadata": {},
   "source": [
    "The batch size happens to match the model trained in Q1a. As such, the results are retrieved directly from Q1a."
   ]
  },
  {
   "cell_type": "code",
   "execution_count": null,
   "metadata": {},
   "outputs": [],
   "source": [
    "plt.plot(history.history['accuracy'])\n",
    "plt.plot(history.history['val_accuracy'])\n",
    "plt.title('Model accuracy')\n",
    "plt.ylabel('Accuracy')\n",
    "plt.xlabel('Epoch')\n",
    "plt.legend(['Train accuracy', 'Test accuracy'])"
   ]
  },
  {
   "cell_type": "markdown",
   "metadata": {},
   "source": [
    "# Q3a"
   ]
  },
  {
   "cell_type": "code",
   "execution_count": null,
   "metadata": {
    "tags": []
   },
   "outputs": [],
   "source": [
    "neuron_count = [64, 128, 256]\n",
    "mean_cv_acc = []\n",
    "\n",
    "kfold = KFold(n_splits=5, shuffle=True)\n",
    "\n",
    "\n",
    "for i in neuron_count:    \n",
    "    model = Sequential([\n",
    "        Dense(i, activation=\"relu\", input_shape=(77,)),\n",
    "        Dropout(0.2),\n",
    "        Dense(i, activation=\"relu\"),\n",
    "        Dropout(0.2),\n",
    "        Dense(i, activation=\"relu\"),\n",
    "        Dropout(0.2),\n",
    "        Dense(1, activation=\"sigmoid\")\n",
    "    ])\n",
    "\n",
    "    adamOptimizer = tf.keras.optimizers.Adam(0.001)\n",
    "\n",
    "    callback = tf.keras.callbacks.EarlyStopping(monitor='loss', patience=3)\n",
    "    \n",
    "    model.compile(optimizer=adamOptimizer,\n",
    "                  loss='binary_crossentropy',\n",
    "                  metrics=['accuracy'])\n",
    "    \n",
    "    k_split_acc = 0\n",
    "    for train, test in kfold.split(X_train_scaled, y_train):      \n",
    "        hi = model.fit(X_train_scaled[train], y_train[train], \n",
    "                    epochs=100, \n",
    "                    batch_size=BATCH_OPTIMAL, \n",
    "                    verbose = 'auto', \n",
    "                    use_multiprocessing=True,\n",
    "                    callbacks=[callback],\n",
    "                    validation_data=(X_train_scaled[test], y_train[test]))\n",
    "        k_split_acc += hi.history['accuracy'][0]\n",
    "    \n",
    "    k_split_acc /= 5\n",
    "    mean_cv_acc.append(k_split_acc)\n",
    "    \n",
    "mean_cv_acc\n"
   ]
  },
  {
   "cell_type": "code",
   "execution_count": null,
   "metadata": {},
   "outputs": [],
   "source": [
    "plt.scatter(neuron_count, mean_cv_acc)\n",
    "plt.title('Final epoch mean cross-validation accuracies')\n",
    "plt.ylabel('Accuracy')\n",
    "plt.xlabel('Hidden layer size')"
   ]
  },
  {
   "cell_type": "markdown",
   "metadata": {},
   "source": [
    "# Q3b"
   ]
  },
  {
   "cell_type": "markdown",
   "metadata": {},
   "source": [
    "256 neurons. It gave the highest accuracy for the 5 fold cross validation"
   ]
  },
  {
   "cell_type": "code",
   "execution_count": null,
   "metadata": {},
   "outputs": [],
   "source": [
    "NEURAL_OPTIMAL = 256"
   ]
  },
  {
   "cell_type": "markdown",
   "metadata": {},
   "source": [
    "# Q3c"
   ]
  },
  {
   "cell_type": "code",
   "execution_count": null,
   "metadata": {
    "tags": []
   },
   "outputs": [],
   "source": [
    "model = Sequential([\n",
    "    Dense(NEURAL_OPTIMAL, activation=\"relu\", input_shape=(77,)),\n",
    "    Dropout(0.2),\n",
    "    Dense(NEURAL_OPTIMAL, activation=\"relu\"),\n",
    "    Dropout(0.2),\n",
    "    Dense(NEURAL_OPTIMAL, activation=\"relu\"),\n",
    "    Dropout(0.2),\n",
    "    Dense(1, activation=\"sigmoid\")\n",
    "])\n",
    "\n",
    "adamOptimizer = tf.keras.optimizers.Adam(0.001)\n",
    "\n",
    "callback = tf.keras.callbacks.EarlyStopping(monitor='loss', patience=3)\n",
    "\n",
    "model.compile(optimizer=adamOptimizer,\n",
    "              loss='binary_crossentropy',\n",
    "              metrics=['accuracy'])\n",
    "\n",
    "optimal = model.fit(X_train_scaled, y_train, \n",
    "                epochs=100, \n",
    "                batch_size=BATCH_OPTIMAL, \n",
    "                verbose = 'auto', \n",
    "                use_multiprocessing=True,\n",
    "                callbacks=[callback],\n",
    "                validation_data=(X_test_scaled, y_test))"
   ]
  },
  {
   "cell_type": "code",
   "execution_count": null,
   "metadata": {},
   "outputs": [],
   "source": [
    "plt.plot(optimal.history['accuracy'])\n",
    "plt.plot(optimal.history['val_accuracy'])\n",
    "plt.title('Model accuracy')\n",
    "plt.ylabel('Accuracy')\n",
    "plt.xlabel('Epoch')\n",
    "plt.legend(['Train accuracy', 'Test accuracy'])"
   ]
  },
  {
   "cell_type": "markdown",
   "metadata": {},
   "source": [
    "# Q3d"
   ]
  },
  {
   "cell_type": "markdown",
   "metadata": {},
   "source": [
    "Dropout is a technique that helps prevent overfitting. It randomly sets a fraction of input units to 0 at each step during training time, which will cause that neuron to be ignored during training. <br>\n",
    "Inputs not dropped are scaled up by a certain factor to match the dimensions required."
   ]
  },
  {
   "cell_type": "markdown",
   "metadata": {},
   "source": [
    "# Q3e\n",
    "Using regularisation. Regularisation removes certain features. Lasso Regression (Least Absolute Shrinkage and Selection Operator) adds “absolute value of magnitude” of coefficient as penalty term to the loss function. Lasso shrinks the less important feature’s coefficient to zero thus, removing some feature altogether. This helps overfitting because the model is able to better generalise the relationship between the inputs and outputs"
   ]
  },
  {
   "cell_type": "code",
   "execution_count": null,
   "metadata": {
    "tags": []
   },
   "outputs": [],
   "source": [
    "from tensorflow.keras import regularizers\n",
    "\n",
    "model = Sequential([\n",
    "    Dense(NEURAL_OPTIMAL, activation=\"relu\", input_shape=(77,)),\n",
    "    Dropout(0.2),\n",
    "    Dense(NEURAL_OPTIMAL, activation=\"relu\", kernel_regularizer=regularizers.L2(0.01)),\n",
    "    Dropout(0.2),\n",
    "    Dense(NEURAL_OPTIMAL, activation=\"relu\"),\n",
    "    Dropout(0.2),\n",
    "    Dense(1, activation=\"sigmoid\")\n",
    "])\n",
    "\n",
    "adamOptimizer = tf.keras.optimizers.Adam(0.001)\n",
    "\n",
    "model.compile(optimizer=adamOptimizer,\n",
    "              loss='binary_crossentropy',\n",
    "              metrics=['accuracy'])\n",
    "\n",
    "callback = tf.keras.callbacks.EarlyStopping(monitor='loss', patience=3)\n",
    "\n",
    "hi = model.fit(X_train_scaled, y_train, \n",
    "                epochs=100, \n",
    "                batch_size=BATCH_OPTIMAL, \n",
    "                verbose = 'auto', \n",
    "                callbacks=[callback],\n",
    "                use_multiprocessing=True,\n",
    "                validation_data=(X_test_scaled, y_test))\n",
    "\n",
    "plt.plot(hi.history['accuracy'])\n",
    "plt.plot(hi.history['val_accuracy'])\n",
    "plt.title('Model accuracy')\n",
    "plt.ylabel('Accuracy')\n",
    "plt.xlabel('Epoch')\n",
    "plt.legend(['Train accuracy', 'Test accuracy'])"
   ]
  },
  {
   "cell_type": "markdown",
   "metadata": {},
   "source": [
    "# Q4a"
   ]
  },
  {
   "cell_type": "code",
   "execution_count": null,
   "metadata": {},
   "outputs": [],
   "source": [
    "df_q4 = pd.read_csv('./new_record.csv') \n",
    "df_q4['label'] = df_q4['filename'].str.split('_').str[-2]\n",
    "columns_to_drop = ['label','filename']\n",
    "\n",
    "label_encoder = preprocessing.LabelEncoder()\n",
    "df_q4['label'] = label_encoder.fit_transform(df_q4['label'])\n",
    "\n",
    "q4_labels = df_q4['label'].to_numpy()\n",
    "df_q4_dropped = df_q4.drop(columns_to_drop,axis=1)\n",
    "\n",
    "\n",
    "standard_scaler = preprocessing.StandardScaler()\n",
    "standard_scaler.fit_transform(X_train)\n",
    "df_q4_scaled = standard_scaler.transform(df_q4_dropped)\n",
    "\n",
    "df_q4_scaled"
   ]
  },
  {
   "cell_type": "markdown",
   "metadata": {},
   "source": [
    "# Q4b"
   ]
  },
  {
   "cell_type": "code",
   "execution_count": null,
   "metadata": {
    "tags": []
   },
   "outputs": [],
   "source": [
    "model = Sequential([\n",
    "    Dense(NEURAL_OPTIMAL, activation=\"relu\", input_shape=(77,)),\n",
    "    Dropout(0.2),\n",
    "    Dense(NEURAL_OPTIMAL, activation=\"relu\"),\n",
    "    Dropout(0.2),\n",
    "    Dense(NEURAL_OPTIMAL, activation=\"relu\"),\n",
    "    Dropout(0.2),\n",
    "    Dense(1, activation=\"sigmoid\")\n",
    "])\n",
    "\n",
    "adamOptimizer = tf.keras.optimizers.Adam(0.001)\n",
    "\n",
    "callback = tf.keras.callbacks.EarlyStopping(monitor='loss', patience=3)\n",
    "\n",
    "model.compile(optimizer=adamOptimizer,\n",
    "              loss='binary_crossentropy',\n",
    "              metrics=['accuracy'])\n",
    "\n",
    "optimal = model.fit(X_train_scaled, y_train, \n",
    "                epochs=100, \n",
    "                batch_size=BATCH_OPTIMAL, \n",
    "                verbose = 'auto', \n",
    "                use_multiprocessing=True,\n",
    "                callbacks=[callback],\n",
    "                validation_data=(X_test_scaled, y_test))"
   ]
  },
  {
   "cell_type": "code",
   "execution_count": null,
   "metadata": {},
   "outputs": [],
   "source": [
    "if model.predict(df_q4_scaled) > 0.5:\n",
    "    prediction = 'Positive'\n",
    "else:\n",
    "    prediction = 'Negative'\n",
    "    \n",
    "prediction"
   ]
  },
  {
   "cell_type": "markdown",
   "metadata": {},
   "source": [
    "# Q4c"
   ]
  },
  {
   "cell_type": "code",
   "execution_count": null,
   "metadata": {},
   "outputs": [],
   "source": [
    "import shap\n",
    "from sklearn import tree\n",
    "\n",
    "# compute SHAP values\n",
    "explainer = shap.DeepExplainer(model, X_train_scaled)\n",
    "shap_values = explainer.shap_values(df_q4_scaled)\n",
    "\n",
    "shap.initjs()\n",
    "shap.force_plot(explainer.expected_value[0].numpy(), shap_values[0][0], features = df_q4_dropped.columns)"
   ]
  },
  {
   "cell_type": "markdown",
   "metadata": {},
   "source": [
    "# Conclusion\n",
    "\n"
   ]
  }
 ],
 "metadata": {
  "colab": {
   "collapsed_sections": [],
   "provenance": []
  },
  "kernelspec": {
   "display_name": "Python 3 (ipykernel)",
   "language": "python",
   "name": "python3"
  },
  "language_info": {
   "codemirror_mode": {
    "name": "ipython",
    "version": 3
   },
   "file_extension": ".py",
   "mimetype": "text/x-python",
   "name": "python",
   "nbconvert_exporter": "python",
   "pygments_lexer": "ipython3",
   "version": "3.9.6"
  }
 },
 "nbformat": 4,
 "nbformat_minor": 4
}
