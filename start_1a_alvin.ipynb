{
 "cells": [
  {
   "cell_type": "markdown",
   "metadata": {
    "id": "6svEX4UE2txX"
   },
   "source": [
    "# Use [markdown](https://www.markdownguide.org/basic-syntax/) to label each (sub)question neatly.\n",
    "\n",
    "This notebook serves as your report. All your answers should be presented within it. \n",
    "\n",
    "You can submit multiple notebooks (e.g. 1 notebook per part / question).\n",
    "\n",
    "Before submission, remember to tidy up the notebook and retain only relevant parts."
   ]
  },
  {
   "cell_type": "code",
   "execution_count": null,
   "metadata": {
    "id": "vr3BLitFduby"
   },
   "outputs": [],
   "source": [
    "import time\n",
    "\n",
    "import pandas as pd\n",
    "import seaborn as sns\n",
    "import matplotlib.pyplot as plt\n",
    "\n",
    "import IPython.display as ipd\n",
    "\n",
    "from scipy.io import wavfile as wav\n",
    "\n",
    "from sklearn import preprocessing\n",
    "from sklearn.model_selection import KFold\n",
    "from sklearn.model_selection import train_test_split\n",
    "from sklearn.metrics import f1_score, precision_score, recall_score, confusion_matrix\n",
    "\n",
    "import tensorflow.keras as keras\n",
    "from tensorflow.keras import Sequential\n",
    "from tensorflow.keras.layers import *\n",
    "from tensorflow.keras.regularizers import l2\n",
    "from tensorflow.keras.callbacks import ReduceLROnPlateau,EarlyStopping,ModelCheckpoint,LearningRateScheduler"
   ]
  },
  {
   "cell_type": "code",
   "execution_count": null,
   "metadata": {
    "id": "YM8unKH7nSIM"
   },
   "outputs": [],
   "source": [
    "SEED = 42\n",
    "\n",
    "import os\n",
    "os.environ['TF_CUDNN_DETERMINISTIC'] = '1'\n",
    "\n",
    "import random \n",
    "random.seed(SEED)\n",
    "\n",
    "import numpy as np\n",
    "np.random.seed(SEED)\n",
    "\n",
    "import tensorflow as tf\n",
    "tf.random.set_seed(SEED)"
   ]
  },
  {
   "cell_type": "code",
   "execution_count": null,
   "metadata": {
    "colab": {
     "base_uri": "https://localhost:8080/"
    },
    "id": "VAGIRWdOwPf-",
    "outputId": "f4e38c98-c599-46cc-bd0d-29646717c1ea"
   },
   "outputs": [
    {
     "name": "stdout",
     "output_type": "stream",
     "text": [
      "/bin/bash: google-drive-ocamlfuse: command not found\n",
      "Mounted at /content/drive\n"
     ]
    }
   ],
   "source": [
    "from google.colab import drive\n",
    "# drive.mount('/content/drive')\n",
    "\n",
    "!fusermount -u drive\n",
    "!google-drive-ocamlfuse drive\n",
    "\n",
    "\n",
    "drive.mount(\"/content/drive\", force_remount=True)\n"
   ]
  },
  {
   "cell_type": "code",
   "execution_count": null,
   "metadata": {
    "id": "UJmVT3OXwtJk"
   },
   "outputs": [],
   "source": [
    "\n",
    "%cd '/content/drive/MyDrive/Colab Notebooks/Assignment1'"
   ]
  },
  {
   "cell_type": "code",
   "execution_count": null,
   "metadata": {
    "colab": {
     "base_uri": "https://localhost:8080/"
    },
    "id": "7GzWZFUt1Me1",
    "outputId": "8ca1e2c7-d3f6-4f1a-b5bd-69ee9cd88d23"
   },
   "outputs": [
    {
     "name": "stdout",
     "output_type": "stream",
     "text": [
      "/content/drive/MyDrive/Colab Notebooks/Assignment1\n",
      "Sat Oct  1 15:16:03 2022       \n",
      "+-----------------------------------------------------------------------------+\n",
      "| NVIDIA-SMI 460.32.03    Driver Version: 460.32.03    CUDA Version: 11.2     |\n",
      "|-------------------------------+----------------------+----------------------+\n",
      "| GPU  Name        Persistence-M| Bus-Id        Disp.A | Volatile Uncorr. ECC |\n",
      "| Fan  Temp  Perf  Pwr:Usage/Cap|         Memory-Usage | GPU-Util  Compute M. |\n",
      "|                               |                      |               MIG M. |\n",
      "|===============================+======================+======================|\n",
      "|   0  Tesla T4            Off  | 00000000:00:04.0 Off |                    0 |\n",
      "| N/A   62C    P8    11W /  70W |      0MiB / 15109MiB |      0%      Default |\n",
      "|                               |                      |                  N/A |\n",
      "+-------------------------------+----------------------+----------------------+\n",
      "                                                                               \n",
      "+-----------------------------------------------------------------------------+\n",
      "| Processes:                                                                  |\n",
      "|  GPU   GI   CI        PID   Type   Process name                  GPU Memory |\n",
      "|        ID   ID                                                   Usage      |\n",
      "|=============================================================================|\n",
      "|  No running processes found                                                 |\n",
      "+-----------------------------------------------------------------------------+\n"
     ]
    }
   ],
   "source": [
    "!pwd\n",
    "!nvidia-smi"
   ]
  },
  {
   "cell_type": "markdown",
   "metadata": {
    "id": "gmTBl3xoqA9g"
   },
   "source": [
    "# Read Data"
   ]
  },
  {
   "cell_type": "markdown",
   "metadata": {
    "id": "3ERIoDIG6yBZ"
   },
   "source": [
    "##Importing data"
   ]
  },
  {
   "cell_type": "code",
   "execution_count": null,
   "metadata": {
    "colab": {
     "base_uri": "https://localhost:8080/",
     "height": 235
    },
    "id": "An4b9d12p8u2",
    "outputId": "7320cb6b-f7d6-4c9b-957c-1e4bf6e40e9d"
   },
   "outputs": [
    {
     "data": {
      "text/html": [
       "\n",
       "  <div id=\"df-00d92eb0-b04c-4ac8-9851-5c7112a32504\">\n",
       "    <div class=\"colab-df-container\">\n",
       "      <div>\n",
       "<style scoped>\n",
       "    .dataframe tbody tr th:only-of-type {\n",
       "        vertical-align: middle;\n",
       "    }\n",
       "\n",
       "    .dataframe tbody tr th {\n",
       "        vertical-align: top;\n",
       "    }\n",
       "\n",
       "    .dataframe thead th {\n",
       "        text-align: right;\n",
       "    }\n",
       "</style>\n",
       "<table border=\"1\" class=\"dataframe\">\n",
       "  <thead>\n",
       "    <tr style=\"text-align: right;\">\n",
       "      <th></th>\n",
       "      <th>filename</th>\n",
       "      <th>tempo</th>\n",
       "      <th>total_beats</th>\n",
       "      <th>average_beats</th>\n",
       "      <th>chroma_stft_mean</th>\n",
       "      <th>chroma_stft_var</th>\n",
       "      <th>chroma_cq_mean</th>\n",
       "      <th>chroma_cq_var</th>\n",
       "      <th>chroma_cens_mean</th>\n",
       "      <th>chroma_cens_var</th>\n",
       "      <th>...</th>\n",
       "      <th>mfcc15_mean</th>\n",
       "      <th>mfcc15_var</th>\n",
       "      <th>mfcc16_mean</th>\n",
       "      <th>mfcc16_var</th>\n",
       "      <th>mfcc17_mean</th>\n",
       "      <th>mfcc17_var</th>\n",
       "      <th>mfcc18_mean</th>\n",
       "      <th>mfcc18_var</th>\n",
       "      <th>mfcc19_mean</th>\n",
       "      <th>mfcc19_var</th>\n",
       "    </tr>\n",
       "  </thead>\n",
       "  <tbody>\n",
       "    <tr>\n",
       "      <th>0</th>\n",
       "      <td>app_3001_4001_phnd_neg_0000.wav</td>\n",
       "      <td>184.570312</td>\n",
       "      <td>623</td>\n",
       "      <td>69.222222</td>\n",
       "      <td>0.515281</td>\n",
       "      <td>0.093347</td>\n",
       "      <td>0.443441</td>\n",
       "      <td>0.082742</td>\n",
       "      <td>0.249143</td>\n",
       "      <td>0.021261</td>\n",
       "      <td>...</td>\n",
       "      <td>-10.669799</td>\n",
       "      <td>63.340282</td>\n",
       "      <td>1.811605</td>\n",
       "      <td>58.117188</td>\n",
       "      <td>-3.286546</td>\n",
       "      <td>54.268448</td>\n",
       "      <td>-2.719069</td>\n",
       "      <td>59.548176</td>\n",
       "      <td>-4.559987</td>\n",
       "      <td>70.774803</td>\n",
       "    </tr>\n",
       "    <tr>\n",
       "      <th>1</th>\n",
       "      <td>app_3001_4001_phnd_neg_0001.wav</td>\n",
       "      <td>151.999081</td>\n",
       "      <td>521</td>\n",
       "      <td>74.428571</td>\n",
       "      <td>0.487201</td>\n",
       "      <td>0.094461</td>\n",
       "      <td>0.542182</td>\n",
       "      <td>0.073359</td>\n",
       "      <td>0.274423</td>\n",
       "      <td>0.008025</td>\n",
       "      <td>...</td>\n",
       "      <td>-5.666375</td>\n",
       "      <td>90.256195</td>\n",
       "      <td>1.573594</td>\n",
       "      <td>105.070496</td>\n",
       "      <td>-0.742024</td>\n",
       "      <td>82.417496</td>\n",
       "      <td>-1.961745</td>\n",
       "      <td>119.312355</td>\n",
       "      <td>1.513660</td>\n",
       "      <td>101.014572</td>\n",
       "    </tr>\n",
       "    <tr>\n",
       "      <th>2</th>\n",
       "      <td>app_3001_4001_phnd_neg_0002.wav</td>\n",
       "      <td>112.347147</td>\n",
       "      <td>1614</td>\n",
       "      <td>146.727273</td>\n",
       "      <td>0.444244</td>\n",
       "      <td>0.099268</td>\n",
       "      <td>0.442014</td>\n",
       "      <td>0.083224</td>\n",
       "      <td>0.264430</td>\n",
       "      <td>0.013410</td>\n",
       "      <td>...</td>\n",
       "      <td>-5.502390</td>\n",
       "      <td>73.079750</td>\n",
       "      <td>0.202623</td>\n",
       "      <td>72.040550</td>\n",
       "      <td>-4.021009</td>\n",
       "      <td>73.844353</td>\n",
       "      <td>-5.916223</td>\n",
       "      <td>103.834824</td>\n",
       "      <td>-2.939086</td>\n",
       "      <td>113.598824</td>\n",
       "    </tr>\n",
       "    <tr>\n",
       "      <th>3</th>\n",
       "      <td>app_3001_4001_phnd_neg_0003.wav</td>\n",
       "      <td>107.666016</td>\n",
       "      <td>2060</td>\n",
       "      <td>158.461538</td>\n",
       "      <td>0.454156</td>\n",
       "      <td>0.100834</td>\n",
       "      <td>0.424370</td>\n",
       "      <td>0.084435</td>\n",
       "      <td>0.257672</td>\n",
       "      <td>0.016938</td>\n",
       "      <td>...</td>\n",
       "      <td>-8.812989</td>\n",
       "      <td>93.791893</td>\n",
       "      <td>-0.429413</td>\n",
       "      <td>60.002579</td>\n",
       "      <td>-4.013513</td>\n",
       "      <td>82.544540</td>\n",
       "      <td>-5.858006</td>\n",
       "      <td>84.402092</td>\n",
       "      <td>0.686969</td>\n",
       "      <td>90.126389</td>\n",
       "    </tr>\n",
       "    <tr>\n",
       "      <th>4</th>\n",
       "      <td>app_3001_4001_phnd_neg_0004.wav</td>\n",
       "      <td>75.999540</td>\n",
       "      <td>66</td>\n",
       "      <td>33.000000</td>\n",
       "      <td>0.478780</td>\n",
       "      <td>0.100000</td>\n",
       "      <td>0.414859</td>\n",
       "      <td>0.089313</td>\n",
       "      <td>0.252143</td>\n",
       "      <td>0.019757</td>\n",
       "      <td>...</td>\n",
       "      <td>-6.584204</td>\n",
       "      <td>64.973305</td>\n",
       "      <td>0.744403</td>\n",
       "      <td>68.908516</td>\n",
       "      <td>-6.354805</td>\n",
       "      <td>66.414391</td>\n",
       "      <td>-6.555534</td>\n",
       "      <td>47.852840</td>\n",
       "      <td>-4.809713</td>\n",
       "      <td>73.033966</td>\n",
       "    </tr>\n",
       "  </tbody>\n",
       "</table>\n",
       "<p>5 rows × 78 columns</p>\n",
       "</div>\n",
       "      <button class=\"colab-df-convert\" onclick=\"convertToInteractive('df-00d92eb0-b04c-4ac8-9851-5c7112a32504')\"\n",
       "              title=\"Convert this dataframe to an interactive table.\"\n",
       "              style=\"display:none;\">\n",
       "        \n",
       "  <svg xmlns=\"http://www.w3.org/2000/svg\" height=\"24px\"viewBox=\"0 0 24 24\"\n",
       "       width=\"24px\">\n",
       "    <path d=\"M0 0h24v24H0V0z\" fill=\"none\"/>\n",
       "    <path d=\"M18.56 5.44l.94 2.06.94-2.06 2.06-.94-2.06-.94-.94-2.06-.94 2.06-2.06.94zm-11 1L8.5 8.5l.94-2.06 2.06-.94-2.06-.94L8.5 2.5l-.94 2.06-2.06.94zm10 10l.94 2.06.94-2.06 2.06-.94-2.06-.94-.94-2.06-.94 2.06-2.06.94z\"/><path d=\"M17.41 7.96l-1.37-1.37c-.4-.4-.92-.59-1.43-.59-.52 0-1.04.2-1.43.59L10.3 9.45l-7.72 7.72c-.78.78-.78 2.05 0 2.83L4 21.41c.39.39.9.59 1.41.59.51 0 1.02-.2 1.41-.59l7.78-7.78 2.81-2.81c.8-.78.8-2.07 0-2.86zM5.41 20L4 18.59l7.72-7.72 1.47 1.35L5.41 20z\"/>\n",
       "  </svg>\n",
       "      </button>\n",
       "      \n",
       "  <style>\n",
       "    .colab-df-container {\n",
       "      display:flex;\n",
       "      flex-wrap:wrap;\n",
       "      gap: 12px;\n",
       "    }\n",
       "\n",
       "    .colab-df-convert {\n",
       "      background-color: #E8F0FE;\n",
       "      border: none;\n",
       "      border-radius: 50%;\n",
       "      cursor: pointer;\n",
       "      display: none;\n",
       "      fill: #1967D2;\n",
       "      height: 32px;\n",
       "      padding: 0 0 0 0;\n",
       "      width: 32px;\n",
       "    }\n",
       "\n",
       "    .colab-df-convert:hover {\n",
       "      background-color: #E2EBFA;\n",
       "      box-shadow: 0px 1px 2px rgba(60, 64, 67, 0.3), 0px 1px 3px 1px rgba(60, 64, 67, 0.15);\n",
       "      fill: #174EA6;\n",
       "    }\n",
       "\n",
       "    [theme=dark] .colab-df-convert {\n",
       "      background-color: #3B4455;\n",
       "      fill: #D2E3FC;\n",
       "    }\n",
       "\n",
       "    [theme=dark] .colab-df-convert:hover {\n",
       "      background-color: #434B5C;\n",
       "      box-shadow: 0px 1px 3px 1px rgba(0, 0, 0, 0.15);\n",
       "      filter: drop-shadow(0px 1px 2px rgba(0, 0, 0, 0.3));\n",
       "      fill: #FFFFFF;\n",
       "    }\n",
       "  </style>\n",
       "\n",
       "      <script>\n",
       "        const buttonEl =\n",
       "          document.querySelector('#df-00d92eb0-b04c-4ac8-9851-5c7112a32504 button.colab-df-convert');\n",
       "        buttonEl.style.display =\n",
       "          google.colab.kernel.accessAllowed ? 'block' : 'none';\n",
       "\n",
       "        async function convertToInteractive(key) {\n",
       "          const element = document.querySelector('#df-00d92eb0-b04c-4ac8-9851-5c7112a32504');\n",
       "          const dataTable =\n",
       "            await google.colab.kernel.invokeFunction('convertToInteractive',\n",
       "                                                     [key], {});\n",
       "          if (!dataTable) return;\n",
       "\n",
       "          const docLinkHtml = 'Like what you see? Visit the ' +\n",
       "            '<a target=\"_blank\" href=https://colab.research.google.com/notebooks/data_table.ipynb>data table notebook</a>'\n",
       "            + ' to learn more about interactive tables.';\n",
       "          element.innerHTML = '';\n",
       "          dataTable['output_type'] = 'display_data';\n",
       "          await google.colab.output.renderOutput(dataTable, element);\n",
       "          const docLink = document.createElement('div');\n",
       "          docLink.innerHTML = docLinkHtml;\n",
       "          element.appendChild(docLink);\n",
       "        }\n",
       "      </script>\n",
       "    </div>\n",
       "  </div>\n",
       "  "
      ],
      "text/plain": [
       "                          filename       tempo  total_beats  average_beats  \\\n",
       "0  app_3001_4001_phnd_neg_0000.wav  184.570312          623      69.222222   \n",
       "1  app_3001_4001_phnd_neg_0001.wav  151.999081          521      74.428571   \n",
       "2  app_3001_4001_phnd_neg_0002.wav  112.347147         1614     146.727273   \n",
       "3  app_3001_4001_phnd_neg_0003.wav  107.666016         2060     158.461538   \n",
       "4  app_3001_4001_phnd_neg_0004.wav   75.999540           66      33.000000   \n",
       "\n",
       "   chroma_stft_mean  chroma_stft_var  chroma_cq_mean  chroma_cq_var  \\\n",
       "0          0.515281         0.093347        0.443441       0.082742   \n",
       "1          0.487201         0.094461        0.542182       0.073359   \n",
       "2          0.444244         0.099268        0.442014       0.083224   \n",
       "3          0.454156         0.100834        0.424370       0.084435   \n",
       "4          0.478780         0.100000        0.414859       0.089313   \n",
       "\n",
       "   chroma_cens_mean  chroma_cens_var  ...  mfcc15_mean  mfcc15_var  \\\n",
       "0          0.249143         0.021261  ...   -10.669799   63.340282   \n",
       "1          0.274423         0.008025  ...    -5.666375   90.256195   \n",
       "2          0.264430         0.013410  ...    -5.502390   73.079750   \n",
       "3          0.257672         0.016938  ...    -8.812989   93.791893   \n",
       "4          0.252143         0.019757  ...    -6.584204   64.973305   \n",
       "\n",
       "   mfcc16_mean  mfcc16_var  mfcc17_mean  mfcc17_var  mfcc18_mean  mfcc18_var  \\\n",
       "0     1.811605   58.117188    -3.286546   54.268448    -2.719069   59.548176   \n",
       "1     1.573594  105.070496    -0.742024   82.417496    -1.961745  119.312355   \n",
       "2     0.202623   72.040550    -4.021009   73.844353    -5.916223  103.834824   \n",
       "3    -0.429413   60.002579    -4.013513   82.544540    -5.858006   84.402092   \n",
       "4     0.744403   68.908516    -6.354805   66.414391    -6.555534   47.852840   \n",
       "\n",
       "   mfcc19_mean  mfcc19_var  \n",
       "0    -4.559987   70.774803  \n",
       "1     1.513660  101.014572  \n",
       "2    -2.939086  113.598824  \n",
       "3     0.686969   90.126389  \n",
       "4    -4.809713   73.033966  \n",
       "\n",
       "[5 rows x 78 columns]"
      ]
     },
     "execution_count": 6,
     "metadata": {},
     "output_type": "execute_result"
    }
   ],
   "source": [
    "df = pd.read_csv('full.csv') \n",
    "df.head()"
   ]
  },
  {
   "cell_type": "code",
   "execution_count": null,
   "metadata": {
    "id": "6AI_2ZahhQtk"
   },
   "outputs": [],
   "source": [
    "df['label'] = df['filename'].str.split('_').str[-2]"
   ]
  },
  {
   "cell_type": "code",
   "execution_count": null,
   "metadata": {
    "colab": {
     "base_uri": "https://localhost:8080/"
    },
    "id": "CHZQbQVzqGIA",
    "outputId": "13c76605-6c6c-4e7d-c168-49ea4196cc7f"
   },
   "outputs": [
    {
     "data": {
      "text/plain": [
       "pos    92826\n",
       "neg    89428\n",
       "Name: label, dtype: int64"
      ]
     },
     "execution_count": 8,
     "metadata": {},
     "output_type": "execute_result"
    }
   ],
   "source": [
    "df['label'].value_counts()"
   ]
  },
  {
   "cell_type": "markdown",
   "metadata": {
    "id": "1zp_RDMgqL9Z"
   },
   "source": [
    "Split and scale dataset"
   ]
  },
  {
   "cell_type": "code",
   "execution_count": null,
   "metadata": {
    "id": "2fNTd9t7qHCI"
   },
   "outputs": [],
   "source": [
    "\n",
    "columns_to_drop = ['label','filename']\n",
    "\n",
    "def split_dataset(df, columns_to_drop, test_size, random_state):\n",
    "  label_encoder = preprocessing.LabelEncoder()\n",
    "\n",
    "  df['label'] = label_encoder.fit_transform(df['label'])\n",
    "\n",
    "  df_train, df_test = train_test_split(df, test_size=test_size, random_state=random_state)\n",
    "\n",
    "  df_train2 = df_train.drop(columns_to_drop,axis=1)\n",
    "  y_train2 = df_train['label'].to_numpy()\n",
    "\n",
    "  df_test2 = df_test.drop(columns_to_drop,axis=1)\n",
    "  y_test2 = df_test['label'].to_numpy() \n",
    "\n",
    "  return df_train2, y_train2, df_test2, y_test2\n",
    "\n",
    "def preprocess_dataset(df_train, df_test):\n",
    "\n",
    "  standard_scaler = preprocessing.StandardScaler()\n",
    "  df_train_scaled = standard_scaler.fit_transform(df_train)\n",
    "\n",
    "  df_test_scaled = standard_scaler.transform(df_test)\n",
    "\n",
    "  return df_train_scaled, df_test_scaled\n",
    "\n",
    "X_train, y_train, X_test, y_test = split_dataset(df, columns_to_drop, test_size=0.3, random_state=0) # positive labels being encoded as 1\n",
    "\n",
    "X_train_scaled, X_test_scaled = preprocess_dataset(X_train, X_test)"
   ]
  },
  {
   "cell_type": "markdown",
   "metadata": {
    "id": "avcaoE6Oe9mL"
   },
   "source": [
    "##Question 1\n"
   ]
  },
  {
   "cell_type": "markdown",
   "metadata": {
    "id": "0psihpJ228lT"
   },
   "source": [
    "Design a feedforward deep neural network (DNN) which consists of an input layer, three hidden layers of 128 neurons each with ReLU activation function, and an output layer with sigmoid activation function.\n",
    "\n",
    "Use a mini-batch gradient descent with ‘adam’ optimizer with learning rate of 0.001, and batch size = 256. \n",
    "\n",
    "Apply dropout of probability 0.2 to each of the hidden layers.\n",
    "\n",
    "Divide the dataset into a 70:30 ratio for training and testing. Use appropriate scaling of input features. We solely assume that there are only two datasets here: training & test. We would look into validation in Question 2 onwards. (Note that we make the simplifying assumption here that each data sample is independent, hence a random split is performed.)\n"
   ]
  },
  {
   "cell_type": "code",
   "execution_count": null,
   "metadata": {
    "id": "FKgQrWCC7Ij3"
   },
   "outputs": [],
   "source": [
    "# define the 77-128-128-128-1 architecture using Keras\n",
    "model = Sequential()\n",
    "\n",
    "# With respect to the number of neurons comprising this layer, this parameter is \n",
    "# completely and uniquely determined once you know the shape of your training data. \n",
    "# Specifically, the number of neurons comprising that layer is equal to the number \n",
    "# of features (columns) in your data. Some NN configurations add one additional \n",
    "# node for a bias term.\n",
    "model.add(Dense(77, input_shape=(77,), activation=\"relu\"))\n",
    "\n",
    "# three hidden layers of 128 neurons each with ReLU activation function\n",
    "# Apply dropout of probability 0.2 to each of the hidden layers.\n",
    "for i in range(3):\n",
    "  model.add(Dense(128, activation=\"relu\"))\n",
    "  model.add(Dropout(0.2))\n",
    "\n",
    "# an output layer with sigmoid activation function.\n",
    "model.add(Dense(1, activation=\"sigmoid\"))\n",
    "\n",
    "\n",
    "# Use a mini-batch gradient descent with ‘adam’ optimizer with learning rate of 0.001, and batch size = 256. \n",
    "opt = keras.optimizers.Adam(learning_rate=0.001)\n",
    "\n",
    "# Binary crossentropy is a loss function that is used in binary classification tasks.\n",
    "# These are tasks that answer a question with only two choices (yes or no, A or B, 0 or 1, left or right).\n",
    "model.compile(optimizer=opt,\n",
    "              loss='binary_crossentropy',\n",
    "              metrics=['accuracy'])\n"
   ]
  },
  {
   "cell_type": "code",
   "execution_count": null,
   "metadata": {
    "colab": {
     "base_uri": "https://localhost:8080/"
    },
    "collapsed": true,
    "id": "t56LlO-r9o6D",
    "jupyter": {
     "outputs_hidden": true
    },
    "outputId": "b002e742-31c0-445e-c2da-32bc266325e3",
    "tags": []
   },
   "outputs": [
    {
     "name": "stdout",
     "output_type": "stream",
     "text": [
      "Epoch 1/100\n",
      "499/499 - 3s - loss: 0.6883 - accuracy: 0.5382 - val_loss: 0.6835 - val_accuracy: 0.5530 - 3s/epoch - 7ms/step\n",
      "Epoch 2/100\n",
      "499/499 - 2s - loss: 0.6816 - accuracy: 0.5583 - val_loss: 0.6806 - val_accuracy: 0.5583 - 2s/epoch - 4ms/step\n",
      "Epoch 3/100\n",
      "499/499 - 2s - loss: 0.6767 - accuracy: 0.5657 - val_loss: 0.6772 - val_accuracy: 0.5673 - 2s/epoch - 4ms/step\n",
      "Epoch 4/100\n",
      "499/499 - 2s - loss: 0.6712 - accuracy: 0.5791 - val_loss: 0.6723 - val_accuracy: 0.5748 - 2s/epoch - 3ms/step\n",
      "Epoch 5/100\n",
      "499/499 - 2s - loss: 0.6647 - accuracy: 0.5887 - val_loss: 0.6676 - val_accuracy: 0.5833 - 2s/epoch - 4ms/step\n",
      "Epoch 6/100\n",
      "499/499 - 2s - loss: 0.6572 - accuracy: 0.6005 - val_loss: 0.6643 - val_accuracy: 0.5874 - 2s/epoch - 3ms/step\n",
      "Epoch 7/100\n",
      "499/499 - 2s - loss: 0.6502 - accuracy: 0.6111 - val_loss: 0.6568 - val_accuracy: 0.6008 - 2s/epoch - 4ms/step\n",
      "Epoch 8/100\n",
      "499/499 - 2s - loss: 0.6429 - accuracy: 0.6202 - val_loss: 0.6527 - val_accuracy: 0.6030 - 2s/epoch - 3ms/step\n",
      "Epoch 9/100\n",
      "499/499 - 2s - loss: 0.6354 - accuracy: 0.6292 - val_loss: 0.6485 - val_accuracy: 0.6104 - 2s/epoch - 4ms/step\n",
      "Epoch 10/100\n",
      "499/499 - 2s - loss: 0.6286 - accuracy: 0.6366 - val_loss: 0.6464 - val_accuracy: 0.6148 - 2s/epoch - 4ms/step\n",
      "Epoch 11/100\n",
      "499/499 - 2s - loss: 0.6225 - accuracy: 0.6422 - val_loss: 0.6412 - val_accuracy: 0.6184 - 2s/epoch - 4ms/step\n",
      "Epoch 12/100\n",
      "499/499 - 2s - loss: 0.6172 - accuracy: 0.6491 - val_loss: 0.6402 - val_accuracy: 0.6235 - 2s/epoch - 4ms/step\n",
      "Epoch 13/100\n",
      "499/499 - 2s - loss: 0.6120 - accuracy: 0.6527 - val_loss: 0.6367 - val_accuracy: 0.6273 - 2s/epoch - 4ms/step\n",
      "Epoch 14/100\n",
      "499/499 - 2s - loss: 0.6073 - accuracy: 0.6590 - val_loss: 0.6329 - val_accuracy: 0.6295 - 2s/epoch - 4ms/step\n",
      "Epoch 15/100\n",
      "499/499 - 2s - loss: 0.6032 - accuracy: 0.6633 - val_loss: 0.6322 - val_accuracy: 0.6338 - 2s/epoch - 3ms/step\n",
      "Epoch 16/100\n",
      "499/499 - 2s - loss: 0.5983 - accuracy: 0.6677 - val_loss: 0.6304 - val_accuracy: 0.6338 - 2s/epoch - 3ms/step\n",
      "Epoch 17/100\n",
      "499/499 - 2s - loss: 0.5931 - accuracy: 0.6724 - val_loss: 0.6280 - val_accuracy: 0.6347 - 2s/epoch - 4ms/step\n",
      "Epoch 18/100\n",
      "499/499 - 2s - loss: 0.5896 - accuracy: 0.6742 - val_loss: 0.6268 - val_accuracy: 0.6384 - 2s/epoch - 4ms/step\n",
      "Epoch 19/100\n",
      "499/499 - 2s - loss: 0.5879 - accuracy: 0.6745 - val_loss: 0.6249 - val_accuracy: 0.6410 - 2s/epoch - 4ms/step\n",
      "Epoch 20/100\n",
      "499/499 - 2s - loss: 0.5836 - accuracy: 0.6796 - val_loss: 0.6234 - val_accuracy: 0.6407 - 2s/epoch - 4ms/step\n",
      "Epoch 21/100\n",
      "499/499 - 2s - loss: 0.5808 - accuracy: 0.6829 - val_loss: 0.6223 - val_accuracy: 0.6433 - 2s/epoch - 4ms/step\n",
      "Epoch 22/100\n",
      "499/499 - 2s - loss: 0.5790 - accuracy: 0.6835 - val_loss: 0.6212 - val_accuracy: 0.6453 - 2s/epoch - 4ms/step\n",
      "Epoch 23/100\n",
      "499/499 - 2s - loss: 0.5759 - accuracy: 0.6864 - val_loss: 0.6204 - val_accuracy: 0.6457 - 2s/epoch - 4ms/step\n",
      "Epoch 24/100\n",
      "499/499 - 2s - loss: 0.5720 - accuracy: 0.6893 - val_loss: 0.6184 - val_accuracy: 0.6492 - 2s/epoch - 4ms/step\n",
      "Epoch 25/100\n",
      "499/499 - 2s - loss: 0.5705 - accuracy: 0.6910 - val_loss: 0.6187 - val_accuracy: 0.6495 - 2s/epoch - 4ms/step\n",
      "Epoch 26/100\n",
      "499/499 - 2s - loss: 0.5689 - accuracy: 0.6932 - val_loss: 0.6183 - val_accuracy: 0.6510 - 2s/epoch - 4ms/step\n",
      "Epoch 27/100\n",
      "499/499 - 2s - loss: 0.5663 - accuracy: 0.6960 - val_loss: 0.6170 - val_accuracy: 0.6514 - 2s/epoch - 4ms/step\n",
      "Epoch 28/100\n",
      "499/499 - 2s - loss: 0.5655 - accuracy: 0.6957 - val_loss: 0.6167 - val_accuracy: 0.6524 - 2s/epoch - 4ms/step\n",
      "Epoch 29/100\n",
      "499/499 - 2s - loss: 0.5630 - accuracy: 0.6986 - val_loss: 0.6167 - val_accuracy: 0.6527 - 2s/epoch - 4ms/step\n",
      "Epoch 30/100\n",
      "499/499 - 2s - loss: 0.5605 - accuracy: 0.6987 - val_loss: 0.6145 - val_accuracy: 0.6542 - 2s/epoch - 3ms/step\n",
      "Epoch 31/100\n",
      "499/499 - 2s - loss: 0.5592 - accuracy: 0.7008 - val_loss: 0.6143 - val_accuracy: 0.6523 - 2s/epoch - 4ms/step\n",
      "Epoch 32/100\n",
      "499/499 - 2s - loss: 0.5579 - accuracy: 0.7029 - val_loss: 0.6144 - val_accuracy: 0.6546 - 2s/epoch - 3ms/step\n",
      "Epoch 33/100\n",
      "499/499 - 2s - loss: 0.5554 - accuracy: 0.7048 - val_loss: 0.6132 - val_accuracy: 0.6542 - 2s/epoch - 3ms/step\n",
      "Epoch 34/100\n",
      "499/499 - 2s - loss: 0.5555 - accuracy: 0.7039 - val_loss: 0.6122 - val_accuracy: 0.6569 - 2s/epoch - 3ms/step\n",
      "Epoch 35/100\n",
      "499/499 - 2s - loss: 0.5530 - accuracy: 0.7060 - val_loss: 0.6144 - val_accuracy: 0.6544 - 2s/epoch - 3ms/step\n",
      "Epoch 36/100\n",
      "499/499 - 2s - loss: 0.5509 - accuracy: 0.7076 - val_loss: 0.6120 - val_accuracy: 0.6573 - 2s/epoch - 4ms/step\n",
      "Epoch 37/100\n",
      "499/499 - 2s - loss: 0.5501 - accuracy: 0.7076 - val_loss: 0.6129 - val_accuracy: 0.6579 - 2s/epoch - 3ms/step\n",
      "Epoch 38/100\n",
      "499/499 - 2s - loss: 0.5474 - accuracy: 0.7087 - val_loss: 0.6112 - val_accuracy: 0.6581 - 2s/epoch - 4ms/step\n",
      "Epoch 39/100\n",
      "499/499 - 2s - loss: 0.5465 - accuracy: 0.7115 - val_loss: 0.6106 - val_accuracy: 0.6574 - 2s/epoch - 4ms/step\n",
      "Epoch 40/100\n",
      "499/499 - 2s - loss: 0.5448 - accuracy: 0.7128 - val_loss: 0.6124 - val_accuracy: 0.6615 - 2s/epoch - 3ms/step\n",
      "Epoch 41/100\n",
      "499/499 - 2s - loss: 0.5454 - accuracy: 0.7125 - val_loss: 0.6104 - val_accuracy: 0.6577 - 2s/epoch - 4ms/step\n",
      "Epoch 42/100\n",
      "499/499 - 2s - loss: 0.5440 - accuracy: 0.7114 - val_loss: 0.6118 - val_accuracy: 0.6567 - 2s/epoch - 4ms/step\n",
      "Epoch 43/100\n",
      "499/499 - 2s - loss: 0.5424 - accuracy: 0.7150 - val_loss: 0.6113 - val_accuracy: 0.6602 - 2s/epoch - 4ms/step\n",
      "Epoch 44/100\n",
      "499/499 - 2s - loss: 0.5416 - accuracy: 0.7154 - val_loss: 0.6125 - val_accuracy: 0.6587 - 2s/epoch - 4ms/step\n",
      "Epoch 44: early stopping\n"
     ]
    }
   ],
   "source": [
    "# a) Use the training dataset to train the model for 100 epochs. Implement early stopping with patience of 3.\n",
    "\n",
    "callback = tf.keras.callbacks.EarlyStopping(monitor='val_loss', patience=3, verbose=1)\n",
    "\n",
    "\n",
    "H = model.fit(X_train_scaled, \n",
    "              y_train, epochs=100, \n",
    "              batch_size=256,\n",
    "              use_multiprocessing=True,\n",
    "              callbacks=[callback],\n",
    "              validation_data=(X_test_scaled, y_test),\n",
    "              verbose = 2)"
   ]
  },
  {
   "cell_type": "code",
   "execution_count": null,
   "metadata": {
    "colab": {
     "base_uri": "https://localhost:8080/"
    },
    "id": "VO2ayXXv27Y7",
    "outputId": "449ecb75-51a3-4e6d-d385-a0eea8f155ec"
   },
   "outputs": [
    {
     "name": "stdout",
     "output_type": "stream",
     "text": [
      "[INFO] evaluating network...\n"
     ]
    }
   ],
   "source": [
    "# from sklearn.metrics import classification_report\n",
    "\n",
    "# evaluate the network\n",
    "print(\"[INFO] evaluating network...\")\n",
    "# predictions = model.predict(X_test_scaled,validation_data=(X_test_scaled, y_test), batch_size=128)\n"
   ]
  },
  {
   "cell_type": "code",
   "execution_count": null,
   "metadata": {
    "id": "Y8K2CypHSche"
   },
   "outputs": [],
   "source": []
  },
  {
   "cell_type": "markdown",
   "metadata": {
    "id": "JegZHiEIXpSv"
   },
   "source": [
    "b) Plot train and test accuracies and losses on training and test data against training epochs and comment on the line plots. Explain the use of early stopping in this question.\n"
   ]
  },
  {
   "cell_type": "code",
   "execution_count": null,
   "metadata": {
    "colab": {
     "base_uri": "https://localhost:8080/",
     "height": 295
    },
    "id": "D7ks6GfEhA7A",
    "outputId": "e7a0b27d-2867-4865-93bd-17fc22d46d27"
   },
   "outputs": [
    {
     "data": {
      "image/png": "[encoded data removed]",
      "text/plain": [
       "<Figure size 432x288 with 1 Axes>"
      ]
     },
     "metadata": {
      "needs_background": "light"
     },
     "output_type": "display_data"
    }
   ],
   "source": [
    "plt.plot(H.history['accuracy'])\n",
    "plt.plot(H.history['val_accuracy'])\n",
    "plt.title('Model accuracy')\n",
    "plt.ylabel('Accuracy')\n",
    "plt.xlabel('Epoch')\n",
    "plt.legend(['Train accuracy', 'Test accuracy'], loc='upper left')\n",
    "plt.savefig('Q1(b)accuracy.png')"
   ]
  },
  {
   "cell_type": "code",
   "execution_count": null,
   "metadata": {
    "colab": {
     "base_uri": "https://localhost:8080/",
     "height": 295
    },
    "id": "C3HfXq5F3UL5",
    "outputId": "399faa80-54b6-4afb-84a2-4ce075d5947d"
   },
   "outputs": [
    {
     "data": {
      "image/png": "[encoded data removed]",
      "text/plain": [
       "<Figure size 432x288 with 1 Axes>"
      ]
     },
     "metadata": {
      "needs_background": "light"
     },
     "output_type": "display_data"
    }
   ],
   "source": [
    "plt.plot(H.history['loss'])\n",
    "plt.plot(H.history['val_loss'])\n",
    "plt.title('Model loss')\n",
    "plt.ylabel('Loss')\n",
    "plt.xlabel('Epoch')\n",
    "plt.legend(['train', 'val'], loc='upper right')\n",
    "plt.savefig('Q1(b)loss.png')"
   ]
  },
  {
   "cell_type": "markdown",
   "metadata": {
    "id": "zb0NqosIeL2i"
   },
   "source": [
    "Comments:\n",
    "\n",
    "Early stopping, implemented with the given parameters, is used to terminate the training once the model shows no improvement (defined by decreasing loss) over 3 (defined by patience) epochs.\n",
    "\n",
    "It used to avoid overfitting when training a learner with an iterative method, ie gradient descent.\n",
    "\n",
    "\n"
   ]
  },
  {
   "cell_type": "code",
   "execution_count": null,
   "metadata": {
    "id": "TbsJPotdeMgI"
   },
   "outputs": [],
   "source": []
  },
  {
   "cell_type": "markdown",
   "metadata": {
    "id": "l18Hnti6fDBz"
   },
   "source": [
    "##Question 2"
   ]
  },
  {
   "cell_type": "markdown",
   "metadata": {
    "id": "z4xO00r9fE1e"
   },
   "source": [
    "In this question, we will determine the optimal batch size for mini-batch gradient descent. Find the optimal batch size for mini-batch gradient descent by training the neural network and evaluating the performances for different batch sizes. Note: Use 5-fold cross-validation on training partition to perform hyperparameter selection.\n",
    "\n",
    "You will have to reconsider the scaling of the dataset during the 5-fold cross validation."
   ]
  },
  {
   "cell_type": "code",
   "execution_count": null,
   "metadata": {
    "id": "I35As7KHsnd5"
   },
   "outputs": [],
   "source": [
    "class TimeHistory(keras.callbacks.Callback):\n",
    "    def on_train_begin(self, logs={}):\n",
    "        self.times = []\n",
    "        \n",
    "    def on_epoch_begin(self, batch, logs={}):\n",
    "        self.epoch_time_start = time.time()\n",
    "\n",
    "    def on_epoch_end(self, batch, logs={}):\n",
    "        self.times.append(time.time() - self.epoch_time_start)"
   ]
  },
  {
   "cell_type": "code",
   "execution_count": null,
   "metadata": {
    "colab": {
     "base_uri": "https://localhost:8080/"
    },
    "collapsed": true,
    "id": "wpCDFjNZfXOv",
    "jupyter": {
     "outputs_hidden": true
    },
    "outputId": "9ed6368f-498a-4df8-d80d-06658d64bd49",
    "tags": []
   },
   "outputs": [
    {
     "name": "stdout",
     "output_type": "stream",
     "text": [
      "------------------------------------------------------------------------\n",
      "Training for fold 1 ...\n",
      "Batch Size: 128\n",
      "Score for fold 1: loss of 0.597022294998169; accuracy of 67.77043342590332%\n",
      "Time for fold 1: 3.5419740676879883\n",
      "------------------------------------------------------------------------\n",
      "Training for fold 2 ...\n",
      "Batch Size: 128\n",
      "Score for fold 2: loss of 0.5967473983764648; accuracy of 67.50706434249878%\n",
      "Time for fold 2: 3.593564033508301\n",
      "------------------------------------------------------------------------\n",
      "Training for fold 3 ...\n",
      "Batch Size: 128\n",
      "Score for fold 3: loss of 0.5906068086624146; accuracy of 67.42202043533325%\n",
      "Time for fold 3: 3.6236588954925537\n",
      "------------------------------------------------------------------------\n",
      "Training for fold 4 ...\n",
      "Batch Size: 128\n",
      "Score for fold 4: loss of 0.5941161513328552; accuracy of 67.84998774528503%\n",
      "Time for fold 4: 3.6764519214630127\n",
      "------------------------------------------------------------------------\n",
      "Training for fold 5 ...\n",
      "Batch Size: 128\n",
      "Score for fold 5: loss of 0.592265248298645; accuracy of 67.61316657066345%\n",
      "Time for fold 5: 3.4139671325683594\n",
      "------------------------------------------------------------------------\n",
      "Training for fold 1 ...\n",
      "Batch Size: 256\n",
      "Score for fold 1: loss of 0.5930244326591492; accuracy of 67.65795350074768%\n",
      "Time for fold 1: 1.8021469116210938\n",
      "------------------------------------------------------------------------\n",
      "Training for fold 2 ...\n",
      "Batch Size: 256\n",
      "Score for fold 2: loss of 0.5966019034385681; accuracy of 67.1449363231659%\n",
      "Time for fold 2: 2.1150121688842773\n",
      "------------------------------------------------------------------------\n",
      "Training for fold 3 ...\n",
      "Batch Size: 256\n",
      "Score for fold 3: loss of 0.6025487780570984; accuracy of 67.09281206130981%\n",
      "Time for fold 3: 1.7813422679901123\n",
      "------------------------------------------------------------------------\n",
      "Training for fold 4 ...\n",
      "Batch Size: 256\n",
      "Score for fold 4: loss of 0.5933910608291626; accuracy of 67.53175258636475%\n",
      "Time for fold 4: 1.7847585678100586\n",
      "------------------------------------------------------------------------\n",
      "Training for fold 5 ...\n",
      "Batch Size: 256\n",
      "Score for fold 5: loss of 0.5943808555603027; accuracy of 67.69821643829346%\n",
      "Time for fold 5: 1.740328073501587\n",
      "------------------------------------------------------------------------\n",
      "Training for fold 1 ...\n",
      "Batch Size: 512\n",
      "Score for fold 1: loss of 0.5967124700546265; accuracy of 67.50706434249878%\n",
      "Time for fold 1: 0.9481215476989746\n",
      "------------------------------------------------------------------------\n",
      "Training for fold 2 ...\n",
      "Batch Size: 512\n",
      "Score for fold 2: loss of 0.5930961966514587; accuracy of 67.70184636116028%\n",
      "Time for fold 2: 0.9301698207855225\n",
      "------------------------------------------------------------------------\n",
      "Training for fold 3 ...\n",
      "Batch Size: 512\n",
      "Score for fold 3: loss of 0.595995306968689; accuracy of 67.68264174461365%\n",
      "Time for fold 3: 0.9542009830474854\n",
      "------------------------------------------------------------------------\n",
      "Training for fold 4 ...\n",
      "Batch Size: 512\n",
      "Score for fold 4: loss of 0.5984511971473694; accuracy of 67.13396310806274%\n",
      "Time for fold 4: 0.9473099708557129\n",
      "------------------------------------------------------------------------\n",
      "Training for fold 5 ...\n",
      "Batch Size: 512\n",
      "Score for fold 5: loss of 0.5960888266563416; accuracy of 67.25651621818542%\n",
      "Time for fold 5: 0.9031996726989746\n",
      "------------------------------------------------------------------------\n",
      "Training for fold 1 ...\n",
      "Batch Size: 1024\n",
      "Score for fold 1: loss of 0.5974789261817932; accuracy of 67.22723841667175%\n",
      "Time for fold 1: 0.4896221160888672\n",
      "------------------------------------------------------------------------\n",
      "Training for fold 2 ...\n",
      "Batch Size: 1024\n",
      "Score for fold 2: loss of 0.5987757444381714; accuracy of 67.0214831829071%\n",
      "Time for fold 2: 0.4831540584564209\n",
      "------------------------------------------------------------------------\n",
      "Training for fold 3 ...\n",
      "Batch Size: 1024\n",
      "Score for fold 3: loss of 0.5967295169830322; accuracy of 67.41653084754944%\n",
      "Time for fold 3: 0.4869680404663086\n",
      "------------------------------------------------------------------------\n",
      "Training for fold 4 ...\n",
      "Batch Size: 1024\n",
      "Score for fold 4: loss of 0.5976529717445374; accuracy of 67.68538355827332%\n",
      "Time for fold 4: 0.595221757888794\n",
      "------------------------------------------------------------------------\n",
      "Training for fold 5 ...\n",
      "Batch Size: 1024\n",
      "Score for fold 5: loss of 0.5976893305778503; accuracy of 67.14951992034912%\n",
      "Time for fold 5: 0.5210351943969727\n"
     ]
    }
   ],
   "source": [
    "batch_size = [128, 256, 512, 1024]\n",
    "\n",
    "\n",
    "acc_and_loss_by_batch_size ={}\n",
    "\n",
    "for BATCH_SIZE in batch_size:\n",
    "  fold_no = 1\n",
    "\n",
    "  # Define per-fold score containers <-- these are new\n",
    "  acc_per_fold = []\n",
    "  loss_per_fold = []\n",
    "  time_per_fold = []\n",
    "\n",
    "  num_folds = 5\n",
    "\n",
    "  # Define the K-fold Cross Validator\n",
    "  kfold = KFold(n_splits=num_folds, shuffle=True)\n",
    "\n",
    "  # Merge inputs and targets\n",
    "  inputs = np.concatenate((X_train_scaled, X_test_scaled), axis=0)\n",
    "  targets = np.concatenate((y_train, y_test), axis=0)\n",
    "\n",
    "  for train, test in kfold.split(inputs, targets):\n",
    "\n",
    "    ################### model code #################\n",
    "\n",
    "\n",
    "    # define the 77-128-128-128-1 architecture using Keras\n",
    "    model = Sequential()\n",
    "\n",
    "    # input layer\n",
    "    model.add(Dense(77, input_shape=(77,), activation=\"relu\"))\n",
    "\n",
    "    # three hidden layers of 128 neurons each with ReLU activation function\n",
    "    # Apply dropout of probability 0.2 to each of the hidden layers.\n",
    "    for i in range(3):\n",
    "      model.add(Dense(128, activation=\"relu\"))\n",
    "      model.add(Dropout(0.2))\n",
    "\n",
    "    # an output layer with sigmoid activation function.\n",
    "    model.add(Dense(1, activation=\"sigmoid\"))\n",
    "\n",
    "    # Use a mini-batch gradient descent with ‘adam’ optimizer with learning rate of 0.001, and batch size = 256. \n",
    "    opt = keras.optimizers.Adam(learning_rate=0.001)\n",
    "\n",
    "    # Binary crossentropy is a loss function that is used in binary classification tasks.\n",
    "    # These are tasks that answer a question with only two choices (yes or no, A or B, 0 or 1, left or right).\n",
    "    model.compile(optimizer=opt,\n",
    "                  loss='binary_crossentropy',\n",
    "                  metrics=['accuracy'])\n",
    "    \n",
    "    # Generate a print\n",
    "    print('------------------------------------------------------------------------')\n",
    "    print(f'Training for fold {fold_no} ...')\n",
    "\n",
    "\n",
    "    time_callback = TimeHistory()\n",
    "\n",
    "\n",
    "    H = model.fit(inputs[train], \n",
    "                  targets[train], epochs=100, \n",
    "                  batch_size=BATCH_SIZE,\n",
    "                  use_multiprocessing=True,\n",
    "                  callbacks=[time_callback],\n",
    "                  validation_data=(inputs[test], targets[test]),\n",
    "                  verbose = 0)\n",
    "    \n",
    "    # Generate generalization metrics\n",
    "    times = time_callback.times\n",
    "    scores = model.evaluate(inputs[test], targets[test], verbose=0)\n",
    "    print(f\"Batch Size: {BATCH_SIZE}\")\n",
    "    print(f'Score for fold {fold_no}: {model.metrics_names[0]} of {scores[0]}; {model.metrics_names[1]} of {scores[1]*100}%')\n",
    "    print(f'Time for fold {fold_no}: {times[-1]}')\n",
    "    acc_per_fold.append(scores[1] * 100)\n",
    "    loss_per_fold.append(scores[0])\n",
    "    time_per_fold.append(times)\n",
    "\n",
    "    # Increase fold number\n",
    "    fold_no = fold_no + 1\n",
    "\n",
    "  acc_and_loss_by_batch_size[BATCH_SIZE] = {\"ACC\":acc_per_fold,\n",
    "                                            \"LOSS\":loss_per_fold,\n",
    "                                            \"TIME\":time_per_fold\n",
    "                                            }\n",
    "\n"
   ]
  },
  {
   "cell_type": "markdown",
   "metadata": {
    "id": "ylRVUUGhnq8V"
   },
   "source": [
    "a) Plot mean cross-validation accuracies on the final epoch for different batch sizes as a scatter plot. Limit search space to batch sizes {128, 256, 512, 1024}. This might take a while to run."
   ]
  },
  {
   "cell_type": "code",
   "execution_count": null,
   "metadata": {
    "id": "4sowmxKTnrsq"
   },
   "outputs": [],
   "source": [
    "batch_sizes_to_plt = []\n",
    "mean_accuracies_to_plt =[]\n",
    "\n",
    "for batch_sizes, data in acc_and_loss_by_batch_size.items():\n",
    "  batch_size_acc = data[\"ACC\"]\n",
    "  mean_fold_acc = sum(batch_size_acc)/len(batch_size_acc)\n",
    "\n",
    "  batch_sizes_to_plt.append(batch_sizes)\n",
    "  mean_accuracies_to_plt.append(mean_fold_acc)\n",
    "\n",
    "\n"
   ]
  },
  {
   "cell_type": "code",
   "execution_count": null,
   "metadata": {
    "colab": {
     "base_uri": "https://localhost:8080/",
     "height": 295
    },
    "id": "j2sGv5wRy9ko",
    "outputId": "ec0f9245-d3aa-49a5-dc23-87baa1d16d96"
   },
   "outputs": [
    {
     "data": {
      "image/png": "[encoded data removed]",
      "text/plain": [
       "<Figure size 432x288 with 1 Axes>"
      ]
     },
     "metadata": {
      "needs_background": "light"
     },
     "output_type": "display_data"
    }
   ],
   "source": [
    "\n",
    "plt.scatter(batch_sizes_to_plt,mean_accuracies_to_plt)\n",
    "plt.title('Final epoch mean cross-validation accuracies')\n",
    "plt.ylabel('Accuracy')\n",
    "plt.xlabel('Batch sizes')\n",
    "# plt.legend(['Train accuracy', 'Test accuracy'], loc='upper left')\n",
    "\n",
    "plt.savefig('Q2(a)mean cross-validation accuracies.png')"
   ]
  },
  {
   "cell_type": "markdown",
   "metadata": {
    "id": "ME8m_F_CwkPz"
   },
   "source": [
    "b) Create a table of time taken to train the network on the last epoch against\n",
    "different batch sizes. (Hint: Introduce a callback)"
   ]
  },
  {
   "cell_type": "code",
   "execution_count": null,
   "metadata": {
    "id": "Tjs4CwMp4zm2"
   },
   "outputs": [],
   "source": [
    "batch_size_fold = []\n",
    "time_taken_final_epoch =[]\n",
    "\n",
    "for batch_sizes, data in acc_and_loss_by_batch_size.items():\n",
    "  time_taken_per_batch = data[\"TIME\"]\n",
    "  i =1\n",
    "  for time_taken in time_taken_per_batch:\n",
    "    batch_size_fold.append(f\"Batch_size_{batch_sizes}_fold_{i}\")\n",
    "    time_taken_final_epoch.append(time_taken[-1])\n",
    "    i+=1\n",
    "\n",
    "\n"
   ]
  },
  {
   "cell_type": "code",
   "execution_count": null,
   "metadata": {
    "colab": {
     "base_uri": "https://localhost:8080/",
     "height": 677
    },
    "id": "7PAwkJcp41Dz",
    "outputId": "57388abf-ba69-44be-f04f-d72efa11ef27"
   },
   "outputs": [
    {
     "data": {
      "text/html": [
       "\n",
       "  <div id=\"df-8083ed00-3558-45a7-869b-ba8d556903f6\">\n",
       "    <div class=\"colab-df-container\">\n",
       "      <div>\n",
       "<style scoped>\n",
       "    .dataframe tbody tr th:only-of-type {\n",
       "        vertical-align: middle;\n",
       "    }\n",
       "\n",
       "    .dataframe tbody tr th {\n",
       "        vertical-align: top;\n",
       "    }\n",
       "\n",
       "    .dataframe thead th {\n",
       "        text-align: right;\n",
       "    }\n",
       "</style>\n",
       "<table border=\"1\" class=\"dataframe\">\n",
       "  <thead>\n",
       "    <tr style=\"text-align: right;\">\n",
       "      <th></th>\n",
       "      <th>batch_size_fold</th>\n",
       "      <th>time_taken_final_epoch</th>\n",
       "    </tr>\n",
       "  </thead>\n",
       "  <tbody>\n",
       "    <tr>\n",
       "      <th>0</th>\n",
       "      <td>Batch_size_128_fold_1</td>\n",
       "      <td>3.541974</td>\n",
       "    </tr>\n",
       "    <tr>\n",
       "      <th>1</th>\n",
       "      <td>Batch_size_128_fold_2</td>\n",
       "      <td>3.593564</td>\n",
       "    </tr>\n",
       "    <tr>\n",
       "      <th>2</th>\n",
       "      <td>Batch_size_128_fold_3</td>\n",
       "      <td>3.623659</td>\n",
       "    </tr>\n",
       "    <tr>\n",
       "      <th>3</th>\n",
       "      <td>Batch_size_128_fold_4</td>\n",
       "      <td>3.676452</td>\n",
       "    </tr>\n",
       "    <tr>\n",
       "      <th>4</th>\n",
       "      <td>Batch_size_128_fold_5</td>\n",
       "      <td>3.413967</td>\n",
       "    </tr>\n",
       "    <tr>\n",
       "      <th>5</th>\n",
       "      <td>Batch_size_256_fold_1</td>\n",
       "      <td>1.802147</td>\n",
       "    </tr>\n",
       "    <tr>\n",
       "      <th>6</th>\n",
       "      <td>Batch_size_256_fold_2</td>\n",
       "      <td>2.115012</td>\n",
       "    </tr>\n",
       "    <tr>\n",
       "      <th>7</th>\n",
       "      <td>Batch_size_256_fold_3</td>\n",
       "      <td>1.781342</td>\n",
       "    </tr>\n",
       "    <tr>\n",
       "      <th>8</th>\n",
       "      <td>Batch_size_256_fold_4</td>\n",
       "      <td>1.784759</td>\n",
       "    </tr>\n",
       "    <tr>\n",
       "      <th>9</th>\n",
       "      <td>Batch_size_256_fold_5</td>\n",
       "      <td>1.740328</td>\n",
       "    </tr>\n",
       "    <tr>\n",
       "      <th>10</th>\n",
       "      <td>Batch_size_512_fold_1</td>\n",
       "      <td>0.948122</td>\n",
       "    </tr>\n",
       "    <tr>\n",
       "      <th>11</th>\n",
       "      <td>Batch_size_512_fold_2</td>\n",
       "      <td>0.930170</td>\n",
       "    </tr>\n",
       "    <tr>\n",
       "      <th>12</th>\n",
       "      <td>Batch_size_512_fold_3</td>\n",
       "      <td>0.954201</td>\n",
       "    </tr>\n",
       "    <tr>\n",
       "      <th>13</th>\n",
       "      <td>Batch_size_512_fold_4</td>\n",
       "      <td>0.947310</td>\n",
       "    </tr>\n",
       "    <tr>\n",
       "      <th>14</th>\n",
       "      <td>Batch_size_512_fold_5</td>\n",
       "      <td>0.903200</td>\n",
       "    </tr>\n",
       "    <tr>\n",
       "      <th>15</th>\n",
       "      <td>Batch_size_1024_fold_1</td>\n",
       "      <td>0.489622</td>\n",
       "    </tr>\n",
       "    <tr>\n",
       "      <th>16</th>\n",
       "      <td>Batch_size_1024_fold_2</td>\n",
       "      <td>0.483154</td>\n",
       "    </tr>\n",
       "    <tr>\n",
       "      <th>17</th>\n",
       "      <td>Batch_size_1024_fold_3</td>\n",
       "      <td>0.486968</td>\n",
       "    </tr>\n",
       "    <tr>\n",
       "      <th>18</th>\n",
       "      <td>Batch_size_1024_fold_4</td>\n",
       "      <td>0.595222</td>\n",
       "    </tr>\n",
       "    <tr>\n",
       "      <th>19</th>\n",
       "      <td>Batch_size_1024_fold_5</td>\n",
       "      <td>0.521035</td>\n",
       "    </tr>\n",
       "  </tbody>\n",
       "</table>\n",
       "</div>\n",
       "      <button class=\"colab-df-convert\" onclick=\"convertToInteractive('df-8083ed00-3558-45a7-869b-ba8d556903f6')\"\n",
       "              title=\"Convert this dataframe to an interactive table.\"\n",
       "              style=\"display:none;\">\n",
       "        \n",
       "  <svg xmlns=\"http://www.w3.org/2000/svg\" height=\"24px\"viewBox=\"0 0 24 24\"\n",
       "       width=\"24px\">\n",
       "    <path d=\"M0 0h24v24H0V0z\" fill=\"none\"/>\n",
       "    <path d=\"M18.56 5.44l.94 2.06.94-2.06 2.06-.94-2.06-.94-.94-2.06-.94 2.06-2.06.94zm-11 1L8.5 8.5l.94-2.06 2.06-.94-2.06-.94L8.5 2.5l-.94 2.06-2.06.94zm10 10l.94 2.06.94-2.06 2.06-.94-2.06-.94-.94-2.06-.94 2.06-2.06.94z\"/><path d=\"M17.41 7.96l-1.37-1.37c-.4-.4-.92-.59-1.43-.59-.52 0-1.04.2-1.43.59L10.3 9.45l-7.72 7.72c-.78.78-.78 2.05 0 2.83L4 21.41c.39.39.9.59 1.41.59.51 0 1.02-.2 1.41-.59l7.78-7.78 2.81-2.81c.8-.78.8-2.07 0-2.86zM5.41 20L4 18.59l7.72-7.72 1.47 1.35L5.41 20z\"/>\n",
       "  </svg>\n",
       "      </button>\n",
       "      \n",
       "  <style>\n",
       "    .colab-df-container {\n",
       "      display:flex;\n",
       "      flex-wrap:wrap;\n",
       "      gap: 12px;\n",
       "    }\n",
       "\n",
       "    .colab-df-convert {\n",
       "      background-color: #E8F0FE;\n",
       "      border: none;\n",
       "      border-radius: 50%;\n",
       "      cursor: pointer;\n",
       "      display: none;\n",
       "      fill: #1967D2;\n",
       "      height: 32px;\n",
       "      padding: 0 0 0 0;\n",
       "      width: 32px;\n",
       "    }\n",
       "\n",
       "    .colab-df-convert:hover {\n",
       "      background-color: #E2EBFA;\n",
       "      box-shadow: 0px 1px 2px rgba(60, 64, 67, 0.3), 0px 1px 3px 1px rgba(60, 64, 67, 0.15);\n",
       "      fill: #174EA6;\n",
       "    }\n",
       "\n",
       "    [theme=dark] .colab-df-convert {\n",
       "      background-color: #3B4455;\n",
       "      fill: #D2E3FC;\n",
       "    }\n",
       "\n",
       "    [theme=dark] .colab-df-convert:hover {\n",
       "      background-color: #434B5C;\n",
       "      box-shadow: 0px 1px 3px 1px rgba(0, 0, 0, 0.15);\n",
       "      filter: drop-shadow(0px 1px 2px rgba(0, 0, 0, 0.3));\n",
       "      fill: #FFFFFF;\n",
       "    }\n",
       "  </style>\n",
       "\n",
       "      <script>\n",
       "        const buttonEl =\n",
       "          document.querySelector('#df-8083ed00-3558-45a7-869b-ba8d556903f6 button.colab-df-convert');\n",
       "        buttonEl.style.display =\n",
       "          google.colab.kernel.accessAllowed ? 'block' : 'none';\n",
       "\n",
       "        async function convertToInteractive(key) {\n",
       "          const element = document.querySelector('#df-8083ed00-3558-45a7-869b-ba8d556903f6');\n",
       "          const dataTable =\n",
       "            await google.colab.kernel.invokeFunction('convertToInteractive',\n",
       "                                                     [key], {});\n",
       "          if (!dataTable) return;\n",
       "\n",
       "          const docLinkHtml = 'Like what you see? Visit the ' +\n",
       "            '<a target=\"_blank\" href=https://colab.research.google.com/notebooks/data_table.ipynb>data table notebook</a>'\n",
       "            + ' to learn more about interactive tables.';\n",
       "          element.innerHTML = '';\n",
       "          dataTable['output_type'] = 'display_data';\n",
       "          await google.colab.output.renderOutput(dataTable, element);\n",
       "          const docLink = document.createElement('div');\n",
       "          docLink.innerHTML = docLinkHtml;\n",
       "          element.appendChild(docLink);\n",
       "        }\n",
       "      </script>\n",
       "    </div>\n",
       "  </div>\n",
       "  "
      ],
      "text/plain": [
       "           batch_size_fold  time_taken_final_epoch\n",
       "0    Batch_size_128_fold_1                3.541974\n",
       "1    Batch_size_128_fold_2                3.593564\n",
       "2    Batch_size_128_fold_3                3.623659\n",
       "3    Batch_size_128_fold_4                3.676452\n",
       "4    Batch_size_128_fold_5                3.413967\n",
       "5    Batch_size_256_fold_1                1.802147\n",
       "6    Batch_size_256_fold_2                2.115012\n",
       "7    Batch_size_256_fold_3                1.781342\n",
       "8    Batch_size_256_fold_4                1.784759\n",
       "9    Batch_size_256_fold_5                1.740328\n",
       "10   Batch_size_512_fold_1                0.948122\n",
       "11   Batch_size_512_fold_2                0.930170\n",
       "12   Batch_size_512_fold_3                0.954201\n",
       "13   Batch_size_512_fold_4                0.947310\n",
       "14   Batch_size_512_fold_5                0.903200\n",
       "15  Batch_size_1024_fold_1                0.489622\n",
       "16  Batch_size_1024_fold_2                0.483154\n",
       "17  Batch_size_1024_fold_3                0.486968\n",
       "18  Batch_size_1024_fold_4                0.595222\n",
       "19  Batch_size_1024_fold_5                0.521035"
      ]
     },
     "execution_count": 20,
     "metadata": {},
     "output_type": "execute_result"
    }
   ],
   "source": [
    "d = {'batch_size_fold':batch_size_fold , 'time_taken_final_epoch': time_taken_final_epoch}\n",
    "\n",
    "df = pd.DataFrame(data=d)\n",
    "\n",
    "df"
   ]
  },
  {
   "cell_type": "markdown",
   "metadata": {
    "id": "Pld2uAmawo9M"
   },
   "source": [
    "c) Select the optimal batch size and state a reason for your selection."
   ]
  },
  {
   "cell_type": "markdown",
   "metadata": {
    "id": "gWXLUs4I-XNr"
   },
   "source": [
    "Answer:\n",
    "\n",
    "Optimal batch size seems to be 512, as it has the highest mean cross validation accuracy for all compared batch sizes"
   ]
  },
  {
   "cell_type": "code",
   "execution_count": null,
   "metadata": {
    "id": "71xsYik5-WI9"
   },
   "outputs": [],
   "source": []
  },
  {
   "cell_type": "markdown",
   "metadata": {
    "id": "fT7kssa8wsxh"
   },
   "source": [
    "d) What happens when batch size increases, and why does it happen?"
   ]
  },
  {
   "cell_type": "markdown",
   "metadata": {
    "id": "mD2NuPdc-uUB"
   },
   "source": [
    "Answer:\n",
    "\n",
    "Training time per epoch decreases. This is as an epoch is 1 forward and backward propogation of the train dataset.\n",
    "\n",
    "Batch size constrains the number of data points that can be propagated throught the network at one time. Hence more interation are required when batch size is reduced.\n",
    "\n",
    "However this is contingent on there being sufficent resouces, usually, this is the gpu memory buffer. For maximum resource allocation, the largest batch size that the gpu memory buffer can accomodate is usually prefered. This would allow for the greatest parallelism as described by Gustafson's law.\n",
    "\n",
    "\n"
   ]
  },
  {
   "cell_type": "code",
   "execution_count": null,
   "metadata": {
    "id": "JzS_PmUywu9_"
   },
   "outputs": [],
   "source": []
  },
  {
   "cell_type": "markdown",
   "metadata": {
    "id": "8S1U4ORRwwsv"
   },
   "source": [
    "e) Plot the train and test accuracies against epochs for the optimal batch size in a line plot."
   ]
  },
  {
   "cell_type": "code",
   "execution_count": null,
   "metadata": {
    "colab": {
     "base_uri": "https://localhost:8080/"
    },
    "collapsed": true,
    "id": "RMACv24wK6pT",
    "jupyter": {
     "outputs_hidden": true
    },
    "outputId": "7ec05cf9-f3e7-4d72-a999-46fa972d5d0a",
    "tags": []
   },
   "outputs": [
    {
     "name": "stdout",
     "output_type": "stream",
     "text": [
      "Epoch 1/100\n",
      "250/250 - 2s - loss: 0.6900 - accuracy: 0.5354 - val_loss: 0.6854 - val_accuracy: 0.5468 - 2s/epoch - 8ms/step\n",
      "Epoch 2/100\n",
      "250/250 - 1s - loss: 0.6836 - accuracy: 0.5517 - val_loss: 0.6812 - val_accuracy: 0.5569 - 1s/epoch - 4ms/step\n",
      "Epoch 3/100\n",
      "250/250 - 1s - loss: 0.6790 - accuracy: 0.5632 - val_loss: 0.6791 - val_accuracy: 0.5622 - 939ms/epoch - 4ms/step\n",
      "Epoch 4/100\n",
      "250/250 - 1s - loss: 0.6741 - accuracy: 0.5741 - val_loss: 0.6737 - val_accuracy: 0.5722 - 934ms/epoch - 4ms/step\n",
      "Epoch 5/100\n",
      "250/250 - 1s - loss: 0.6688 - accuracy: 0.5823 - val_loss: 0.6705 - val_accuracy: 0.5782 - 1s/epoch - 4ms/step\n",
      "Epoch 6/100\n",
      "250/250 - 1s - loss: 0.6616 - accuracy: 0.5939 - val_loss: 0.6661 - val_accuracy: 0.5860 - 1s/epoch - 4ms/step\n",
      "Epoch 7/100\n",
      "250/250 - 1s - loss: 0.6553 - accuracy: 0.6046 - val_loss: 0.6605 - val_accuracy: 0.5924 - 1s/epoch - 4ms/step\n",
      "Epoch 8/100\n",
      "250/250 - 1s - loss: 0.6487 - accuracy: 0.6133 - val_loss: 0.6572 - val_accuracy: 0.5985 - 1s/epoch - 4ms/step\n",
      "Epoch 9/100\n",
      "250/250 - 1s - loss: 0.6419 - accuracy: 0.6214 - val_loss: 0.6525 - val_accuracy: 0.6051 - 939ms/epoch - 4ms/step\n",
      "Epoch 10/100\n",
      "250/250 - 1s - loss: 0.6351 - accuracy: 0.6306 - val_loss: 0.6496 - val_accuracy: 0.6090 - 975ms/epoch - 4ms/step\n",
      "Epoch 11/100\n",
      "250/250 - 1s - loss: 0.6302 - accuracy: 0.6347 - val_loss: 0.6470 - val_accuracy: 0.6151 - 956ms/epoch - 4ms/step\n",
      "Epoch 12/100\n",
      "250/250 - 1s - loss: 0.6228 - accuracy: 0.6444 - val_loss: 0.6463 - val_accuracy: 0.6141 - 1s/epoch - 4ms/step\n",
      "Epoch 13/100\n",
      "250/250 - 1s - loss: 0.6181 - accuracy: 0.6486 - val_loss: 0.6418 - val_accuracy: 0.6217 - 933ms/epoch - 4ms/step\n",
      "Epoch 14/100\n",
      "250/250 - 1s - loss: 0.6137 - accuracy: 0.6540 - val_loss: 0.6390 - val_accuracy: 0.6255 - 1s/epoch - 4ms/step\n",
      "Epoch 15/100\n",
      "250/250 - 1s - loss: 0.6089 - accuracy: 0.6586 - val_loss: 0.6360 - val_accuracy: 0.6259 - 1s/epoch - 4ms/step\n",
      "Epoch 16/100\n",
      "250/250 - 1s - loss: 0.6049 - accuracy: 0.6631 - val_loss: 0.6337 - val_accuracy: 0.6299 - 1s/epoch - 4ms/step\n",
      "Epoch 17/100\n",
      "250/250 - 1s - loss: 0.6002 - accuracy: 0.6683 - val_loss: 0.6316 - val_accuracy: 0.6332 - 915ms/epoch - 4ms/step\n",
      "Epoch 18/100\n",
      "250/250 - 1s - loss: 0.5965 - accuracy: 0.6715 - val_loss: 0.6295 - val_accuracy: 0.6371 - 909ms/epoch - 4ms/step\n",
      "Epoch 19/100\n",
      "250/250 - 1s - loss: 0.5936 - accuracy: 0.6731 - val_loss: 0.6290 - val_accuracy: 0.6366 - 914ms/epoch - 4ms/step\n",
      "Epoch 20/100\n",
      "250/250 - 1s - loss: 0.5892 - accuracy: 0.6782 - val_loss: 0.6281 - val_accuracy: 0.6403 - 1s/epoch - 4ms/step\n",
      "Epoch 21/100\n",
      "250/250 - 1s - loss: 0.5873 - accuracy: 0.6790 - val_loss: 0.6275 - val_accuracy: 0.6410 - 931ms/epoch - 4ms/step\n",
      "Epoch 22/100\n",
      "250/250 - 1s - loss: 0.5840 - accuracy: 0.6816 - val_loss: 0.6257 - val_accuracy: 0.6426 - 923ms/epoch - 4ms/step\n",
      "Epoch 23/100\n",
      "250/250 - 1s - loss: 0.5816 - accuracy: 0.6848 - val_loss: 0.6226 - val_accuracy: 0.6465 - 915ms/epoch - 4ms/step\n",
      "Epoch 24/100\n",
      "250/250 - 1s - loss: 0.5788 - accuracy: 0.6862 - val_loss: 0.6218 - val_accuracy: 0.6472 - 943ms/epoch - 4ms/step\n",
      "Epoch 25/100\n",
      "250/250 - 1s - loss: 0.5754 - accuracy: 0.6907 - val_loss: 0.6204 - val_accuracy: 0.6474 - 1s/epoch - 4ms/step\n",
      "Epoch 26/100\n",
      "250/250 - 1s - loss: 0.5750 - accuracy: 0.6898 - val_loss: 0.6204 - val_accuracy: 0.6486 - 1s/epoch - 4ms/step\n",
      "Epoch 27/100\n",
      "250/250 - 1s - loss: 0.5707 - accuracy: 0.6945 - val_loss: 0.6216 - val_accuracy: 0.6498 - 943ms/epoch - 4ms/step\n",
      "Epoch 28/100\n",
      "250/250 - 1s - loss: 0.5690 - accuracy: 0.6954 - val_loss: 0.6182 - val_accuracy: 0.6532 - 960ms/epoch - 4ms/step\n",
      "Epoch 29/100\n",
      "250/250 - 1s - loss: 0.5674 - accuracy: 0.6964 - val_loss: 0.6172 - val_accuracy: 0.6516 - 922ms/epoch - 4ms/step\n",
      "Epoch 30/100\n",
      "250/250 - 1s - loss: 0.5655 - accuracy: 0.6987 - val_loss: 0.6190 - val_accuracy: 0.6508 - 935ms/epoch - 4ms/step\n",
      "Epoch 31/100\n",
      "250/250 - 1s - loss: 0.5636 - accuracy: 0.6994 - val_loss: 0.6144 - val_accuracy: 0.6544 - 1s/epoch - 4ms/step\n",
      "Epoch 32/100\n",
      "250/250 - 1s - loss: 0.5611 - accuracy: 0.7008 - val_loss: 0.6145 - val_accuracy: 0.6550 - 924ms/epoch - 4ms/step\n",
      "Epoch 33/100\n",
      "250/250 - 1s - loss: 0.5599 - accuracy: 0.7034 - val_loss: 0.6150 - val_accuracy: 0.6541 - 1s/epoch - 4ms/step\n",
      "Epoch 34/100\n",
      "250/250 - 1s - loss: 0.5588 - accuracy: 0.7025 - val_loss: 0.6145 - val_accuracy: 0.6580 - 1s/epoch - 4ms/step\n",
      "Epoch 35/100\n",
      "250/250 - 1s - loss: 0.5580 - accuracy: 0.7035 - val_loss: 0.6144 - val_accuracy: 0.6580 - 914ms/epoch - 4ms/step\n",
      "Epoch 36/100\n",
      "250/250 - 1s - loss: 0.5556 - accuracy: 0.7066 - val_loss: 0.6136 - val_accuracy: 0.6574 - 915ms/epoch - 4ms/step\n",
      "Epoch 37/100\n",
      "250/250 - 1s - loss: 0.5551 - accuracy: 0.7064 - val_loss: 0.6156 - val_accuracy: 0.6576 - 923ms/epoch - 4ms/step\n",
      "Epoch 38/100\n",
      "250/250 - 1s - loss: 0.5523 - accuracy: 0.7083 - val_loss: 0.6114 - val_accuracy: 0.6586 - 1s/epoch - 4ms/step\n",
      "Epoch 39/100\n",
      "250/250 - 1s - loss: 0.5520 - accuracy: 0.7086 - val_loss: 0.6104 - val_accuracy: 0.6623 - 1s/epoch - 4ms/step\n",
      "Epoch 40/100\n",
      "250/250 - 1s - loss: 0.5505 - accuracy: 0.7104 - val_loss: 0.6124 - val_accuracy: 0.6595 - 942ms/epoch - 4ms/step\n",
      "Epoch 41/100\n",
      "250/250 - 1s - loss: 0.5501 - accuracy: 0.7108 - val_loss: 0.6106 - val_accuracy: 0.6601 - 939ms/epoch - 4ms/step\n",
      "Epoch 42/100\n",
      "250/250 - 1s - loss: 0.5480 - accuracy: 0.7131 - val_loss: 0.6122 - val_accuracy: 0.6588 - 927ms/epoch - 4ms/step\n",
      "Epoch 43/100\n",
      "250/250 - 1s - loss: 0.5464 - accuracy: 0.7125 - val_loss: 0.6130 - val_accuracy: 0.6592 - 923ms/epoch - 4ms/step\n",
      "Epoch 44/100\n",
      "250/250 - 1s - loss: 0.5449 - accuracy: 0.7140 - val_loss: 0.6093 - val_accuracy: 0.6619 - 913ms/epoch - 4ms/step\n",
      "Epoch 45/100\n",
      "250/250 - 1s - loss: 0.5432 - accuracy: 0.7155 - val_loss: 0.6099 - val_accuracy: 0.6612 - 1s/epoch - 4ms/step\n",
      "Epoch 46/100\n",
      "250/250 - 1s - loss: 0.5428 - accuracy: 0.7159 - val_loss: 0.6091 - val_accuracy: 0.6618 - 1s/epoch - 4ms/step\n",
      "Epoch 47/100\n",
      "250/250 - 1s - loss: 0.5418 - accuracy: 0.7168 - val_loss: 0.6089 - val_accuracy: 0.6630 - 1s/epoch - 4ms/step\n",
      "Epoch 48/100\n",
      "250/250 - 1s - loss: 0.5413 - accuracy: 0.7172 - val_loss: 0.6081 - val_accuracy: 0.6644 - 1s/epoch - 4ms/step\n",
      "Epoch 49/100\n",
      "250/250 - 1s - loss: 0.5406 - accuracy: 0.7186 - val_loss: 0.6083 - val_accuracy: 0.6621 - 966ms/epoch - 4ms/step\n",
      "Epoch 50/100\n",
      "250/250 - 1s - loss: 0.5385 - accuracy: 0.7199 - val_loss: 0.6096 - val_accuracy: 0.6633 - 982ms/epoch - 4ms/step\n",
      "Epoch 51/100\n",
      "250/250 - 1s - loss: 0.5391 - accuracy: 0.7193 - val_loss: 0.6083 - val_accuracy: 0.6633 - 956ms/epoch - 4ms/step\n",
      "Epoch 52/100\n",
      "250/250 - 1s - loss: 0.5379 - accuracy: 0.7202 - val_loss: 0.6092 - val_accuracy: 0.6638 - 1s/epoch - 4ms/step\n",
      "Epoch 53/100\n",
      "250/250 - 1s - loss: 0.5361 - accuracy: 0.7203 - val_loss: 0.6078 - val_accuracy: 0.6652 - 1s/epoch - 4ms/step\n",
      "Epoch 54/100\n",
      "250/250 - 1s - loss: 0.5361 - accuracy: 0.7206 - val_loss: 0.6078 - val_accuracy: 0.6635 - 1s/epoch - 4ms/step\n",
      "Epoch 55/100\n",
      "250/250 - 1s - loss: 0.5332 - accuracy: 0.7245 - val_loss: 0.6085 - val_accuracy: 0.6646 - 932ms/epoch - 4ms/step\n",
      "Epoch 56/100\n",
      "250/250 - 1s - loss: 0.5357 - accuracy: 0.7223 - val_loss: 0.6098 - val_accuracy: 0.6634 - 1s/epoch - 4ms/step\n",
      "Epoch 57/100\n",
      "250/250 - 1s - loss: 0.5338 - accuracy: 0.7221 - val_loss: 0.6082 - val_accuracy: 0.6639 - 932ms/epoch - 4ms/step\n",
      "Epoch 58/100\n",
      "250/250 - 1s - loss: 0.5313 - accuracy: 0.7240 - val_loss: 0.6084 - val_accuracy: 0.6653 - 1s/epoch - 4ms/step\n",
      "Epoch 59/100\n",
      "250/250 - 1s - loss: 0.5311 - accuracy: 0.7244 - val_loss: 0.6080 - val_accuracy: 0.6661 - 1s/epoch - 4ms/step\n",
      "Epoch 60/100\n",
      "250/250 - 1s - loss: 0.5306 - accuracy: 0.7254 - val_loss: 0.6041 - val_accuracy: 0.6672 - 951ms/epoch - 4ms/step\n",
      "Epoch 61/100\n",
      "250/250 - 1s - loss: 0.5304 - accuracy: 0.7257 - val_loss: 0.6070 - val_accuracy: 0.6643 - 924ms/epoch - 4ms/step\n",
      "Epoch 62/100\n",
      "250/250 - 1s - loss: 0.5299 - accuracy: 0.7272 - val_loss: 0.6075 - val_accuracy: 0.6655 - 918ms/epoch - 4ms/step\n",
      "Epoch 63/100\n",
      "250/250 - 1s - loss: 0.5264 - accuracy: 0.7277 - val_loss: 0.6086 - val_accuracy: 0.6658 - 930ms/epoch - 4ms/step\n",
      "Epoch 64/100\n",
      "250/250 - 1s - loss: 0.5290 - accuracy: 0.7256 - val_loss: 0.6075 - val_accuracy: 0.6622 - 957ms/epoch - 4ms/step\n",
      "Epoch 65/100\n",
      "250/250 - 1s - loss: 0.5271 - accuracy: 0.7274 - val_loss: 0.6076 - val_accuracy: 0.6654 - 924ms/epoch - 4ms/step\n",
      "Epoch 66/100\n",
      "250/250 - 1s - loss: 0.5254 - accuracy: 0.7292 - val_loss: 0.6072 - val_accuracy: 0.6677 - 1s/epoch - 4ms/step\n",
      "Epoch 67/100\n",
      "250/250 - 1s - loss: 0.5263 - accuracy: 0.7283 - val_loss: 0.6061 - val_accuracy: 0.6650 - 921ms/epoch - 4ms/step\n",
      "Epoch 68/100\n",
      "250/250 - 1s - loss: 0.5242 - accuracy: 0.7292 - val_loss: 0.6070 - val_accuracy: 0.6666 - 1s/epoch - 4ms/step\n",
      "Epoch 69/100\n",
      "250/250 - 1s - loss: 0.5241 - accuracy: 0.7303 - val_loss: 0.6072 - val_accuracy: 0.6674 - 914ms/epoch - 4ms/step\n",
      "Epoch 70/100\n",
      "250/250 - 1s - loss: 0.5238 - accuracy: 0.7300 - val_loss: 0.6066 - val_accuracy: 0.6647 - 929ms/epoch - 4ms/step\n",
      "Epoch 71/100\n",
      "250/250 - 1s - loss: 0.5217 - accuracy: 0.7319 - val_loss: 0.6090 - val_accuracy: 0.6668 - 953ms/epoch - 4ms/step\n",
      "Epoch 72/100\n",
      "250/250 - 1s - loss: 0.5224 - accuracy: 0.7313 - val_loss: 0.6061 - val_accuracy: 0.6657 - 942ms/epoch - 4ms/step\n",
      "Epoch 73/100\n",
      "250/250 - 1s - loss: 0.5235 - accuracy: 0.7307 - val_loss: 0.6055 - val_accuracy: 0.6694 - 954ms/epoch - 4ms/step\n",
      "Epoch 74/100\n",
      "250/250 - 1s - loss: 0.5214 - accuracy: 0.7307 - val_loss: 0.6061 - val_accuracy: 0.6678 - 946ms/epoch - 4ms/step\n",
      "Epoch 75/100\n",
      "250/250 - 1s - loss: 0.5217 - accuracy: 0.7317 - val_loss: 0.6061 - val_accuracy: 0.6675 - 938ms/epoch - 4ms/step\n",
      "Epoch 76/100\n",
      "250/250 - 1s - loss: 0.5207 - accuracy: 0.7322 - val_loss: 0.6050 - val_accuracy: 0.6687 - 1s/epoch - 4ms/step\n",
      "Epoch 77/100\n",
      "250/250 - 1s - loss: 0.5179 - accuracy: 0.7346 - val_loss: 0.6068 - val_accuracy: 0.6694 - 1s/epoch - 4ms/step\n",
      "Epoch 78/100\n",
      "250/250 - 1s - loss: 0.5190 - accuracy: 0.7339 - val_loss: 0.6063 - val_accuracy: 0.6690 - 929ms/epoch - 4ms/step\n",
      "Epoch 79/100\n",
      "250/250 - 1s - loss: 0.5177 - accuracy: 0.7341 - val_loss: 0.6065 - val_accuracy: 0.6683 - 947ms/epoch - 4ms/step\n",
      "Epoch 80/100\n",
      "250/250 - 1s - loss: 0.5186 - accuracy: 0.7353 - val_loss: 0.6051 - val_accuracy: 0.6688 - 1s/epoch - 4ms/step\n",
      "Epoch 81/100\n",
      "250/250 - 1s - loss: 0.5182 - accuracy: 0.7348 - val_loss: 0.6034 - val_accuracy: 0.6671 - 1s/epoch - 4ms/step\n",
      "Epoch 82/100\n",
      "250/250 - 1s - loss: 0.5158 - accuracy: 0.7360 - val_loss: 0.6050 - val_accuracy: 0.6694 - 1s/epoch - 4ms/step\n",
      "Epoch 83/100\n",
      "250/250 - 1s - loss: 0.5163 - accuracy: 0.7359 - val_loss: 0.6066 - val_accuracy: 0.6675 - 948ms/epoch - 4ms/step\n",
      "Epoch 84/100\n",
      "250/250 - 1s - loss: 0.5164 - accuracy: 0.7350 - val_loss: 0.6044 - val_accuracy: 0.6682 - 930ms/epoch - 4ms/step\n",
      "Epoch 85/100\n",
      "250/250 - 1s - loss: 0.5165 - accuracy: 0.7349 - val_loss: 0.6042 - val_accuracy: 0.6698 - 941ms/epoch - 4ms/step\n",
      "Epoch 86/100\n",
      "250/250 - 1s - loss: 0.5142 - accuracy: 0.7376 - val_loss: 0.6032 - val_accuracy: 0.6710 - 1s/epoch - 4ms/step\n",
      "Epoch 87/100\n",
      "250/250 - 1s - loss: 0.5145 - accuracy: 0.7372 - val_loss: 0.6043 - val_accuracy: 0.6699 - 957ms/epoch - 4ms/step\n",
      "Epoch 88/100\n",
      "250/250 - 1s - loss: 0.5157 - accuracy: 0.7350 - val_loss: 0.6051 - val_accuracy: 0.6701 - 928ms/epoch - 4ms/step\n",
      "Epoch 89/100\n",
      "250/250 - 1s - loss: 0.5146 - accuracy: 0.7369 - val_loss: 0.6049 - val_accuracy: 0.6693 - 952ms/epoch - 4ms/step\n",
      "Epoch 90/100\n",
      "250/250 - 1s - loss: 0.5143 - accuracy: 0.7367 - val_loss: 0.6059 - val_accuracy: 0.6691 - 937ms/epoch - 4ms/step\n",
      "Epoch 91/100\n",
      "250/250 - 1s - loss: 0.5141 - accuracy: 0.7376 - val_loss: 0.6050 - val_accuracy: 0.6685 - 1s/epoch - 4ms/step\n",
      "Epoch 92/100\n",
      "250/250 - 1s - loss: 0.5125 - accuracy: 0.7404 - val_loss: 0.6066 - val_accuracy: 0.6688 - 1s/epoch - 4ms/step\n",
      "Epoch 93/100\n",
      "250/250 - 1s - loss: 0.5139 - accuracy: 0.7359 - val_loss: 0.6045 - val_accuracy: 0.6696 - 956ms/epoch - 4ms/step\n",
      "Epoch 94/100\n",
      "250/250 - 1s - loss: 0.5121 - accuracy: 0.7380 - val_loss: 0.6049 - val_accuracy: 0.6702 - 924ms/epoch - 4ms/step\n",
      "Epoch 95/100\n",
      "250/250 - 1s - loss: 0.5120 - accuracy: 0.7378 - val_loss: 0.6041 - val_accuracy: 0.6708 - 944ms/epoch - 4ms/step\n",
      "Epoch 96/100\n",
      "250/250 - 1s - loss: 0.5114 - accuracy: 0.7394 - val_loss: 0.6067 - val_accuracy: 0.6712 - 915ms/epoch - 4ms/step\n",
      "Epoch 97/100\n",
      "250/250 - 1s - loss: 0.5089 - accuracy: 0.7405 - val_loss: 0.6046 - val_accuracy: 0.6691 - 909ms/epoch - 4ms/step\n",
      "Epoch 98/100\n",
      "250/250 - 1s - loss: 0.5116 - accuracy: 0.7388 - val_loss: 0.6036 - val_accuracy: 0.6703 - 928ms/epoch - 4ms/step\n",
      "Epoch 99/100\n",
      "250/250 - 1s - loss: 0.5092 - accuracy: 0.7408 - val_loss: 0.6051 - val_accuracy: 0.6706 - 1s/epoch - 4ms/step\n",
      "Epoch 100/100\n",
      "250/250 - 1s - loss: 0.5092 - accuracy: 0.7405 - val_loss: 0.6036 - val_accuracy: 0.6716 - 1s/epoch - 4ms/step\n"
     ]
    }
   ],
   "source": [
    "BATCH_SIZE = 512\n",
    "HIDDEN_LAYER_SIZE = 128\n",
    "\n",
    "# define the 77-128-128-128-1 architecture using Keras\n",
    "model = Sequential()\n",
    "\n",
    "model.add(Dense(77, input_shape=(77,), activation=\"relu\"))\n",
    "\n",
    "for i in range(3):\n",
    "  model.add(Dense(HIDDEN_LAYER_SIZE, activation=\"relu\"))\n",
    "  model.add(Dropout(0.2))\n",
    "\n",
    "model.add(Dense(1, activation=\"sigmoid\"))\n",
    "\n",
    "opt = keras.optimizers.Adam(learning_rate=0.001)\n",
    "\n",
    "model.compile(optimizer=opt,\n",
    "              loss='binary_crossentropy',\n",
    "              metrics=['accuracy'])\n",
    "\n",
    "\n",
    "H = model.fit(X_train_scaled, \n",
    "              y_train, epochs=100, \n",
    "              batch_size=BATCH_SIZE,\n",
    "              use_multiprocessing=True,\n",
    "              validation_data=(X_test_scaled, y_test),\n",
    "              verbose = 2)"
   ]
  },
  {
   "cell_type": "code",
   "execution_count": null,
   "metadata": {
    "colab": {
     "base_uri": "https://localhost:8080/",
     "height": 295
    },
    "id": "g33TSG5tLJ6b",
    "outputId": "34d8d944-7636-46a6-d827-9643ab3f03da"
   },
   "outputs": [
    {
     "data": {
      "image/png": "[encoded data removed]",
      "text/plain": [
       "<Figure size 432x288 with 1 Axes>"
      ]
     },
     "metadata": {
      "needs_background": "light"
     },
     "output_type": "display_data"
    }
   ],
   "source": [
    "plt.plot(H.history['accuracy'])\n",
    "plt.plot(H.history['val_accuracy'])\n",
    "plt.title('Model accuracy')\n",
    "plt.ylabel('Accuracy')\n",
    "plt.xlabel('Epoch')\n",
    "plt.legend(['Train accuracy', 'Test accuracy'], loc='upper left')\n",
    "plt.savefig('Q2(e)accuracy.png')"
   ]
  },
  {
   "cell_type": "markdown",
   "metadata": {
    "id": "AoevqvRXw5cK"
   },
   "source": [
    "##Question 3\n",
    "Find the optimal number of hidden neurons for first hidden layer of the 5-layer network (input\n",
    "layer, 3 hidden layers, output layer) designed in Question 1 and 2."
   ]
  },
  {
   "cell_type": "code",
   "execution_count": null,
   "metadata": {
    "id": "qVnFIZ5u6ggl"
   },
   "outputs": [],
   "source": [
    "class TimeHistory(keras.callbacks.Callback):\n",
    "    def on_train_begin(self, logs={}):\n",
    "        self.times = []\n",
    "        \n",
    "    def on_epoch_begin(self, batch, logs={}):\n",
    "        self.epoch_time_start = time.time()\n",
    "\n",
    "    def on_epoch_end(self, batch, logs={}):\n",
    "        self.times.append(time.time() - self.epoch_time_start)"
   ]
  },
  {
   "cell_type": "code",
   "execution_count": null,
   "metadata": {
    "colab": {
     "base_uri": "https://localhost:8080/"
    },
    "id": "smXxrUz-w8s3",
    "outputId": "62bf0810-1415-4998-e20d-707b3a150898"
   },
   "outputs": [
    {
     "name": "stdout",
     "output_type": "stream",
     "text": [
      "------------------------------------------------------------------------\n",
      "Training for fold 1 ...\n",
      "Size of hidden layer: 64\n",
      "Score for fold 1: loss of 0.6246289014816284; accuracy of 64.80480432510376%\n",
      "Time for fold 1: 0.9356129169464111\n",
      "------------------------------------------------------------------------\n",
      "Training for fold 2 ...\n",
      "Size of hidden layer: 64\n",
      "Score for fold 2: loss of 0.6290069818496704; accuracy of 64.64020013809204%\n",
      "Time for fold 2: 0.9368853569030762\n",
      "------------------------------------------------------------------------\n",
      "Training for fold 3 ...\n",
      "Size of hidden layer: 64\n",
      "Score for fold 3: loss of 0.6221017241477966; accuracy of 64.68135118484497%\n",
      "Time for fold 3: 0.9566876888275146\n",
      "------------------------------------------------------------------------\n",
      "Training for fold 4 ...\n",
      "Size of hidden layer: 64\n",
      "Score for fold 4: loss of 0.6238633990287781; accuracy of 64.69507217407227%\n",
      "Time for fold 4: 0.9870269298553467\n",
      "------------------------------------------------------------------------\n",
      "Training for fold 5 ...\n",
      "Size of hidden layer: 64\n",
      "Score for fold 5: loss of 0.6214853525161743; accuracy of 64.95747566223145%\n",
      "Time for fold 5: 0.9847826957702637\n",
      "------------------------------------------------------------------------\n",
      "Training for fold 1 ...\n",
      "Size of hidden layer: 128\n",
      "Score for fold 1: loss of 0.5961934328079224; accuracy of 67.53175258636475%\n",
      "Time for fold 1: 1.0384624004364014\n",
      "------------------------------------------------------------------------\n",
      "Training for fold 2 ...\n",
      "Size of hidden layer: 128\n",
      "Score for fold 2: loss of 0.5984037518501282; accuracy of 66.93369150161743%\n",
      "Time for fold 2: 0.9977343082427979\n",
      "------------------------------------------------------------------------\n",
      "Training for fold 3 ...\n",
      "Size of hidden layer: 128\n",
      "Score for fold 3: loss of 0.5942180156707764; accuracy of 67.38909482955933%\n",
      "Time for fold 3: 0.9438216686248779\n",
      "------------------------------------------------------------------------\n",
      "Training for fold 4 ...\n",
      "Size of hidden layer: 128\n",
      "Score for fold 4: loss of 0.5959799289703369; accuracy of 67.49334931373596%\n",
      "Time for fold 4: 0.9690203666687012\n",
      "------------------------------------------------------------------------\n",
      "Training for fold 5 ...\n",
      "Size of hidden layer: 128\n",
      "Score for fold 5: loss of 0.6017083525657654; accuracy of 66.78189039230347%\n",
      "Time for fold 5: 0.9898908138275146\n",
      "------------------------------------------------------------------------\n",
      "Training for fold 1 ...\n",
      "Size of hidden layer: 256\n",
      "Score for fold 1: loss of 0.5662308931350708; accuracy of 71.26827836036682%\n",
      "Time for fold 1: 0.9700887203216553\n",
      "------------------------------------------------------------------------\n",
      "Training for fold 2 ...\n",
      "Size of hidden layer: 256\n",
      "Score for fold 2: loss of 0.5598651766777039; accuracy of 71.2984561920166%\n",
      "Time for fold 2: 0.9661593437194824\n",
      "------------------------------------------------------------------------\n",
      "Training for fold 3 ...\n",
      "Size of hidden layer: 256\n",
      "Score for fold 3: loss of 0.5879884362220764; accuracy of 69.78958249092102%\n",
      "Time for fold 3: 0.9910585880279541\n",
      "------------------------------------------------------------------------\n",
      "Training for fold 4 ...\n",
      "Size of hidden layer: 256\n",
      "Score for fold 4: loss of 0.5661419034004211; accuracy of 70.99119424819946%\n",
      "Time for fold 4: 0.9572889804840088\n",
      "------------------------------------------------------------------------\n",
      "Training for fold 5 ...\n",
      "Size of hidden layer: 256\n",
      "Score for fold 5: loss of 0.5698220729827881; accuracy of 71.05624079704285%\n",
      "Time for fold 5: 1.1287243366241455\n"
     ]
    }
   ],
   "source": [
    "hidden_layer_sizes = [64, 128, 256]\n",
    "\n",
    "\n",
    "acc_and_loss_by_hidden_layer ={}\n",
    "\n",
    "for hidden_layer in hidden_layer_sizes:\n",
    "  fold_no = 1\n",
    "\n",
    "  # Define per-fold score containers <-- these are new\n",
    "  acc_per_fold = []\n",
    "  loss_per_fold = []\n",
    "  time_per_fold = []\n",
    "\n",
    "  num_folds = 5\n",
    "\n",
    "  # Define the K-fold Cross Validator\n",
    "  kfold = KFold(n_splits=num_folds, shuffle=True)\n",
    "\n",
    "  # Merge inputs and targets\n",
    "  inputs = np.concatenate((X_train_scaled, X_test_scaled), axis=0)\n",
    "  targets = np.concatenate((y_train, y_test), axis=0)\n",
    "\n",
    "  for train, test in kfold.split(inputs, targets):\n",
    "\n",
    "    ################### model code #################\n",
    "\n",
    "    BATCH_SIZE = 512\n",
    "\n",
    "    # define the 77-128-128-128-1 architecture using Keras\n",
    "    model = Sequential()\n",
    "\n",
    "    # input layer\n",
    "    model.add(Dense(77, input_shape=(77,), activation=\"relu\"))\n",
    "\n",
    "    # three hidden layers of 128 neurons each with ReLU activation function\n",
    "    # Apply dropout of probability 0.2 to each of the hidden layers.\n",
    "    for i in range(3):\n",
    "      model.add(Dense(hidden_layer, activation=\"relu\"))\n",
    "      model.add(Dropout(0.2))\n",
    "\n",
    "    # an output layer with sigmoid activation function.\n",
    "    model.add(Dense(1, activation=\"sigmoid\"))\n",
    "\n",
    "    # Use a mini-batch gradient descent with ‘adam’ optimizer with learning rate of 0.001, and batch size = 256. \n",
    "    opt = keras.optimizers.Adam(learning_rate=0.001)\n",
    "\n",
    "    # Binary crossentropy is a loss function that is used in binary classification tasks.\n",
    "    # These are tasks that answer a question with only two choices (yes or no, A or B, 0 or 1, left or right).\n",
    "    model.compile(optimizer=opt,\n",
    "                  loss='binary_crossentropy',\n",
    "                  metrics=['accuracy'])\n",
    "    \n",
    "    # Generate a print\n",
    "    print('------------------------------------------------------------------------')\n",
    "    print(f'Training for fold {fold_no} ...')\n",
    "\n",
    "    time_callback = TimeHistory()\n",
    "\n",
    "\n",
    "    H = model.fit(inputs[train], \n",
    "                  targets[train], epochs=100, \n",
    "                  batch_size=BATCH_SIZE,\n",
    "                  use_multiprocessing=True,\n",
    "                  callbacks=[time_callback],\n",
    "                  validation_data=(inputs[test], targets[test]),\n",
    "                  verbose = 0)\n",
    "    \n",
    "    # Generate generalization metrics\n",
    "    times = time_callback.times\n",
    "    scores = model.evaluate(inputs[test], targets[test], verbose=0)\n",
    "    print(f\"Size of hidden layer: {hidden_layer}\")\n",
    "    print(f'Score for fold {fold_no}: {model.metrics_names[0]} of {scores[0]}; {model.metrics_names[1]} of {scores[1]*100}%')\n",
    "    print(f'Time for fold {fold_no}: {times[-1]}')\n",
    "    acc_per_fold.append(scores[1] * 100)\n",
    "    loss_per_fold.append(scores[0])\n",
    "    time_per_fold.append(times)\n",
    "\n",
    "    # Increase fold number\n",
    "    fold_no = fold_no + 1\n",
    "\n",
    "  acc_and_loss_by_hidden_layer[hidden_layer] = {\"ACC\":acc_per_fold,\n",
    "                                            \"LOSS\":loss_per_fold,\n",
    "                                            \"TIME\":time_per_fold\n",
    "                                            }\n"
   ]
  },
  {
   "cell_type": "markdown",
   "metadata": {
    "id": "BYq9_PcBxCTa"
   },
   "source": [
    "a) Plot the mean cross-validation accuracies on the final epoch for different\n",
    "numbers of hidden-layer neurons using a scatter plot. Limit the search space of the\n",
    "number of neurons to {64, 128, 256}.\n",
    "\n",
    "Continue using 5-fold cross validation on training dataset."
   ]
  },
  {
   "cell_type": "code",
   "execution_count": null,
   "metadata": {
    "id": "DbtrJGuqxFm3"
   },
   "outputs": [],
   "source": [
    "hidden_layer_size_to_plt = []\n",
    "mean_accuracies_to_plt =[]\n",
    "\n",
    "for hidden_layer_sz, data in acc_and_loss_by_hidden_layer.items():\n",
    "  hidden_layer_acc = data[\"ACC\"]\n",
    "  mean_fold_acc = sum(hidden_layer_acc)/len(hidden_layer_acc)\n",
    "\n",
    "  hidden_layer_size_to_plt.append(hidden_layer_sz)\n",
    "  mean_accuracies_to_plt.append(mean_fold_acc)\n"
   ]
  },
  {
   "cell_type": "code",
   "execution_count": null,
   "metadata": {
    "colab": {
     "base_uri": "https://localhost:8080/",
     "height": 295
    },
    "id": "g2DtErpS8WlR",
    "outputId": "5dc7f9ec-28ff-48f4-ebc2-285ae598e57a"
   },
   "outputs": [
    {
     "data": {
      "image/png": "[encoded data removed]",
      "text/plain": [
       "<Figure size 432x288 with 1 Axes>"
      ]
     },
     "metadata": {
      "needs_background": "light"
     },
     "output_type": "display_data"
    }
   ],
   "source": [
    "plt.scatter(hidden_layer_size_to_plt,mean_accuracies_to_plt)\n",
    "plt.title('Final epoch mean cross-validation accuracies')\n",
    "plt.ylabel('Accuracy')\n",
    "plt.xlabel('Hidden layer size')\n",
    "# plt.legend(['Train accuracy', 'Test accuracy'], loc='upper left')\n",
    "\n",
    "plt.savefig('Q3(a)mean cross-validation accuracies.png')"
   ]
  },
  {
   "cell_type": "markdown",
   "metadata": {
    "id": "0h7P3A5HxOaV"
   },
   "source": [
    "b) Select the optimal number of neurons for the hidden layer. State the rationale\n",
    "for your selection.\n",
    "\n",
    "\n",
    "Hidden layer of 256, highest accuracy\n"
   ]
  },
  {
   "cell_type": "code",
   "execution_count": null,
   "metadata": {
    "colab": {
     "base_uri": "https://localhost:8080/"
    },
    "id": "B5AR68fVgiHl",
    "outputId": "f0d1ee0b-3ea2-405d-f8cc-80265cb4bdb0"
   },
   "outputs": [
    {
     "data": {
      "text/plain": [
       "256"
      ]
     },
     "execution_count": 25,
     "metadata": {},
     "output_type": "execute_result"
    }
   ],
   "source": [
    "256\n"
   ]
  },
  {
   "cell_type": "markdown",
   "metadata": {
    "id": "-_zE48NFxT5B"
   },
   "source": [
    "c) Plot the train and test accuracies against training epochs with the optimal\n",
    "number of neurons using a line plot."
   ]
  },
  {
   "cell_type": "code",
   "execution_count": null,
   "metadata": {
    "colab": {
     "base_uri": "https://localhost:8080/"
    },
    "id": "YwWAPGtnxVaw",
    "outputId": "1a4010c8-49c5-4bf1-d34d-6531dc2731da"
   },
   "outputs": [
    {
     "name": "stdout",
     "output_type": "stream",
     "text": [
      "Epoch 1/100\n",
      "250/250 - 2s - loss: 0.6882 - accuracy: 0.5399 - val_loss: 0.6839 - val_accuracy: 0.5538 - 2s/epoch - 10ms/step\n",
      "Epoch 2/100\n",
      "250/250 - 1s - loss: 0.6806 - accuracy: 0.5596 - val_loss: 0.6792 - val_accuracy: 0.5615 - 1s/epoch - 5ms/step\n",
      "Epoch 3/100\n",
      "250/250 - 1s - loss: 0.6738 - accuracy: 0.5737 - val_loss: 0.6736 - val_accuracy: 0.5739 - 948ms/epoch - 4ms/step\n",
      "Epoch 4/100\n",
      "250/250 - 1s - loss: 0.6654 - accuracy: 0.5901 - val_loss: 0.6677 - val_accuracy: 0.5811 - 949ms/epoch - 4ms/step\n",
      "Epoch 5/100\n",
      "250/250 - 1s - loss: 0.6558 - accuracy: 0.6042 - val_loss: 0.6615 - val_accuracy: 0.5949 - 935ms/epoch - 4ms/step\n",
      "Epoch 6/100\n",
      "250/250 - 1s - loss: 0.6452 - accuracy: 0.6174 - val_loss: 0.6531 - val_accuracy: 0.6049 - 1s/epoch - 4ms/step\n",
      "Epoch 7/100\n",
      "250/250 - 1s - loss: 0.6345 - accuracy: 0.6319 - val_loss: 0.6447 - val_accuracy: 0.6179 - 971ms/epoch - 4ms/step\n",
      "Epoch 8/100\n",
      "250/250 - 1s - loss: 0.6232 - accuracy: 0.6439 - val_loss: 0.6377 - val_accuracy: 0.6250 - 957ms/epoch - 4ms/step\n",
      "Epoch 9/100\n",
      "250/250 - 1s - loss: 0.6116 - accuracy: 0.6560 - val_loss: 0.6309 - val_accuracy: 0.6323 - 922ms/epoch - 4ms/step\n",
      "Epoch 10/100\n",
      "250/250 - 1s - loss: 0.6012 - accuracy: 0.6654 - val_loss: 0.6266 - val_accuracy: 0.6382 - 1s/epoch - 4ms/step\n",
      "Epoch 11/100\n",
      "250/250 - 1s - loss: 0.5920 - accuracy: 0.6745 - val_loss: 0.6213 - val_accuracy: 0.6447 - 1s/epoch - 4ms/step\n",
      "Epoch 12/100\n",
      "250/250 - 1s - loss: 0.5833 - accuracy: 0.6816 - val_loss: 0.6211 - val_accuracy: 0.6470 - 1s/epoch - 4ms/step\n",
      "Epoch 13/100\n",
      "250/250 - 1s - loss: 0.5738 - accuracy: 0.6881 - val_loss: 0.6163 - val_accuracy: 0.6542 - 1s/epoch - 4ms/step\n",
      "Epoch 14/100\n",
      "250/250 - 1s - loss: 0.5663 - accuracy: 0.6961 - val_loss: 0.6109 - val_accuracy: 0.6566 - 1s/epoch - 4ms/step\n",
      "Epoch 15/100\n",
      "250/250 - 1s - loss: 0.5599 - accuracy: 0.7008 - val_loss: 0.6088 - val_accuracy: 0.6587 - 1s/epoch - 4ms/step\n",
      "Epoch 16/100\n",
      "250/250 - 1s - loss: 0.5524 - accuracy: 0.7078 - val_loss: 0.6049 - val_accuracy: 0.6628 - 939ms/epoch - 4ms/step\n",
      "Epoch 17/100\n",
      "250/250 - 1s - loss: 0.5466 - accuracy: 0.7126 - val_loss: 0.6022 - val_accuracy: 0.6646 - 1s/epoch - 4ms/step\n",
      "Epoch 18/100\n",
      "250/250 - 1s - loss: 0.5391 - accuracy: 0.7183 - val_loss: 0.6013 - val_accuracy: 0.6693 - 961ms/epoch - 4ms/step\n",
      "Epoch 19/100\n",
      "250/250 - 1s - loss: 0.5333 - accuracy: 0.7217 - val_loss: 0.5987 - val_accuracy: 0.6707 - 1s/epoch - 4ms/step\n",
      "Epoch 20/100\n",
      "250/250 - 1s - loss: 0.5286 - accuracy: 0.7243 - val_loss: 0.5963 - val_accuracy: 0.6714 - 961ms/epoch - 4ms/step\n",
      "Epoch 21/100\n",
      "250/250 - 1s - loss: 0.5226 - accuracy: 0.7301 - val_loss: 0.5959 - val_accuracy: 0.6727 - 952ms/epoch - 4ms/step\n",
      "Epoch 22/100\n",
      "250/250 - 1s - loss: 0.5188 - accuracy: 0.7325 - val_loss: 0.5960 - val_accuracy: 0.6759 - 932ms/epoch - 4ms/step\n",
      "Epoch 23/100\n",
      "250/250 - 1s - loss: 0.5157 - accuracy: 0.7354 - val_loss: 0.5940 - val_accuracy: 0.6752 - 938ms/epoch - 4ms/step\n",
      "Epoch 24/100\n",
      "250/250 - 1s - loss: 0.5105 - accuracy: 0.7391 - val_loss: 0.5943 - val_accuracy: 0.6806 - 1s/epoch - 4ms/step\n",
      "Epoch 25/100\n",
      "250/250 - 1s - loss: 0.5059 - accuracy: 0.7419 - val_loss: 0.5917 - val_accuracy: 0.6793 - 1s/epoch - 4ms/step\n",
      "Epoch 26/100\n",
      "250/250 - 1s - loss: 0.5022 - accuracy: 0.7440 - val_loss: 0.5890 - val_accuracy: 0.6822 - 1s/epoch - 4ms/step\n",
      "Epoch 27/100\n",
      "250/250 - 1s - loss: 0.4987 - accuracy: 0.7482 - val_loss: 0.5908 - val_accuracy: 0.6814 - 1s/epoch - 4ms/step\n",
      "Epoch 28/100\n",
      "250/250 - 1s - loss: 0.4962 - accuracy: 0.7500 - val_loss: 0.5897 - val_accuracy: 0.6810 - 953ms/epoch - 4ms/step\n",
      "Epoch 29/100\n",
      "250/250 - 1s - loss: 0.4909 - accuracy: 0.7534 - val_loss: 0.5927 - val_accuracy: 0.6839 - 1s/epoch - 4ms/step\n",
      "Epoch 30/100\n",
      "250/250 - 1s - loss: 0.4885 - accuracy: 0.7542 - val_loss: 0.5869 - val_accuracy: 0.6848 - 1s/epoch - 4ms/step\n",
      "Epoch 31/100\n",
      "250/250 - 1s - loss: 0.4880 - accuracy: 0.7550 - val_loss: 0.5884 - val_accuracy: 0.6851 - 1s/epoch - 4ms/step\n",
      "Epoch 32/100\n",
      "250/250 - 1s - loss: 0.4824 - accuracy: 0.7586 - val_loss: 0.5890 - val_accuracy: 0.6847 - 1s/epoch - 4ms/step\n",
      "Epoch 33/100\n",
      "250/250 - 1s - loss: 0.4788 - accuracy: 0.7625 - val_loss: 0.5863 - val_accuracy: 0.6871 - 941ms/epoch - 4ms/step\n",
      "Epoch 34/100\n",
      "250/250 - 1s - loss: 0.4759 - accuracy: 0.7639 - val_loss: 0.5851 - val_accuracy: 0.6867 - 924ms/epoch - 4ms/step\n",
      "Epoch 35/100\n",
      "250/250 - 1s - loss: 0.4749 - accuracy: 0.7645 - val_loss: 0.5881 - val_accuracy: 0.6878 - 946ms/epoch - 4ms/step\n",
      "Epoch 36/100\n",
      "250/250 - 1s - loss: 0.4714 - accuracy: 0.7667 - val_loss: 0.5883 - val_accuracy: 0.6882 - 938ms/epoch - 4ms/step\n",
      "Epoch 37/100\n",
      "250/250 - 1s - loss: 0.4703 - accuracy: 0.7666 - val_loss: 0.5844 - val_accuracy: 0.6875 - 1s/epoch - 4ms/step\n",
      "Epoch 38/100\n",
      "250/250 - 1s - loss: 0.4681 - accuracy: 0.7692 - val_loss: 0.5851 - val_accuracy: 0.6899 - 941ms/epoch - 4ms/step\n",
      "Epoch 39/100\n",
      "250/250 - 1s - loss: 0.4650 - accuracy: 0.7708 - val_loss: 0.5862 - val_accuracy: 0.6913 - 949ms/epoch - 4ms/step\n",
      "Epoch 40/100\n",
      "250/250 - 1s - loss: 0.4622 - accuracy: 0.7730 - val_loss: 0.5910 - val_accuracy: 0.6893 - 1s/epoch - 4ms/step\n",
      "Epoch 41/100\n",
      "250/250 - 1s - loss: 0.4611 - accuracy: 0.7753 - val_loss: 0.5868 - val_accuracy: 0.6939 - 1s/epoch - 4ms/step\n",
      "Epoch 42/100\n",
      "250/250 - 1s - loss: 0.4578 - accuracy: 0.7754 - val_loss: 0.5880 - val_accuracy: 0.6917 - 930ms/epoch - 4ms/step\n",
      "Epoch 43/100\n",
      "250/250 - 1s - loss: 0.4558 - accuracy: 0.7769 - val_loss: 0.5904 - val_accuracy: 0.6914 - 935ms/epoch - 4ms/step\n",
      "Epoch 44/100\n",
      "250/250 - 1s - loss: 0.4547 - accuracy: 0.7776 - val_loss: 0.5903 - val_accuracy: 0.6932 - 1s/epoch - 4ms/step\n",
      "Epoch 45/100\n",
      "250/250 - 1s - loss: 0.4538 - accuracy: 0.7791 - val_loss: 0.5852 - val_accuracy: 0.6934 - 910ms/epoch - 4ms/step\n",
      "Epoch 46/100\n",
      "250/250 - 1s - loss: 0.4520 - accuracy: 0.7806 - val_loss: 0.5845 - val_accuracy: 0.6938 - 1s/epoch - 4ms/step\n",
      "Epoch 47/100\n",
      "250/250 - 1s - loss: 0.4495 - accuracy: 0.7821 - val_loss: 0.5836 - val_accuracy: 0.6927 - 1s/epoch - 4ms/step\n",
      "Epoch 48/100\n",
      "250/250 - 1s - loss: 0.4480 - accuracy: 0.7825 - val_loss: 0.5838 - val_accuracy: 0.6945 - 929ms/epoch - 4ms/step\n",
      "Epoch 49/100\n",
      "250/250 - 1s - loss: 0.4447 - accuracy: 0.7846 - val_loss: 0.5846 - val_accuracy: 0.6933 - 1s/epoch - 4ms/step\n",
      "Epoch 50/100\n",
      "250/250 - 1s - loss: 0.4445 - accuracy: 0.7847 - val_loss: 0.5844 - val_accuracy: 0.6963 - 923ms/epoch - 4ms/step\n",
      "Epoch 51/100\n",
      "250/250 - 1s - loss: 0.4431 - accuracy: 0.7841 - val_loss: 0.5847 - val_accuracy: 0.6956 - 1s/epoch - 4ms/step\n",
      "Epoch 52/100\n",
      "250/250 - 1s - loss: 0.4406 - accuracy: 0.7859 - val_loss: 0.5870 - val_accuracy: 0.6949 - 1s/epoch - 4ms/step\n",
      "Epoch 53/100\n",
      "250/250 - 1s - loss: 0.4402 - accuracy: 0.7876 - val_loss: 0.5819 - val_accuracy: 0.6959 - 930ms/epoch - 4ms/step\n",
      "Epoch 54/100\n",
      "250/250 - 1s - loss: 0.4383 - accuracy: 0.7887 - val_loss: 0.5865 - val_accuracy: 0.6936 - 948ms/epoch - 4ms/step\n",
      "Epoch 55/100\n",
      "250/250 - 1s - loss: 0.4407 - accuracy: 0.7880 - val_loss: 0.5878 - val_accuracy: 0.6972 - 1s/epoch - 4ms/step\n",
      "Epoch 56/100\n",
      "250/250 - 1s - loss: 0.4354 - accuracy: 0.7895 - val_loss: 0.5894 - val_accuracy: 0.6959 - 952ms/epoch - 4ms/step\n",
      "Epoch 57/100\n",
      "250/250 - 1s - loss: 0.4342 - accuracy: 0.7930 - val_loss: 0.5874 - val_accuracy: 0.6974 - 947ms/epoch - 4ms/step\n",
      "Epoch 58/100\n",
      "250/250 - 1s - loss: 0.4341 - accuracy: 0.7920 - val_loss: 0.5834 - val_accuracy: 0.6978 - 939ms/epoch - 4ms/step\n",
      "Epoch 59/100\n",
      "250/250 - 1s - loss: 0.4312 - accuracy: 0.7909 - val_loss: 0.5864 - val_accuracy: 0.6978 - 929ms/epoch - 4ms/step\n",
      "Epoch 60/100\n",
      "250/250 - 1s - loss: 0.4307 - accuracy: 0.7927 - val_loss: 0.5880 - val_accuracy: 0.6945 - 1s/epoch - 4ms/step\n",
      "Epoch 61/100\n",
      "250/250 - 1s - loss: 0.4290 - accuracy: 0.7943 - val_loss: 0.5903 - val_accuracy: 0.6974 - 949ms/epoch - 4ms/step\n",
      "Epoch 62/100\n",
      "250/250 - 1s - loss: 0.4297 - accuracy: 0.7937 - val_loss: 0.5910 - val_accuracy: 0.6982 - 1s/epoch - 4ms/step\n",
      "Epoch 63/100\n",
      "250/250 - 1s - loss: 0.4273 - accuracy: 0.7951 - val_loss: 0.5897 - val_accuracy: 0.6970 - 954ms/epoch - 4ms/step\n",
      "Epoch 64/100\n",
      "250/250 - 1s - loss: 0.4283 - accuracy: 0.7957 - val_loss: 0.5850 - val_accuracy: 0.6972 - 1s/epoch - 4ms/step\n",
      "Epoch 65/100\n",
      "250/250 - 1s - loss: 0.4261 - accuracy: 0.7963 - val_loss: 0.5846 - val_accuracy: 0.6984 - 1s/epoch - 4ms/step\n",
      "Epoch 66/100\n",
      "250/250 - 1s - loss: 0.4260 - accuracy: 0.7962 - val_loss: 0.5869 - val_accuracy: 0.6996 - 942ms/epoch - 4ms/step\n",
      "Epoch 67/100\n",
      "250/250 - 1s - loss: 0.4241 - accuracy: 0.7969 - val_loss: 0.5825 - val_accuracy: 0.7001 - 928ms/epoch - 4ms/step\n",
      "Epoch 68/100\n",
      "250/250 - 1s - loss: 0.4200 - accuracy: 0.8003 - val_loss: 0.5847 - val_accuracy: 0.6988 - 1s/epoch - 4ms/step\n",
      "Epoch 69/100\n",
      "250/250 - 1s - loss: 0.4210 - accuracy: 0.7994 - val_loss: 0.5884 - val_accuracy: 0.6999 - 938ms/epoch - 4ms/step\n",
      "Epoch 70/100\n",
      "250/250 - 1s - loss: 0.4198 - accuracy: 0.8000 - val_loss: 0.5856 - val_accuracy: 0.7005 - 1s/epoch - 4ms/step\n",
      "Epoch 71/100\n",
      "250/250 - 1s - loss: 0.4167 - accuracy: 0.8014 - val_loss: 0.5903 - val_accuracy: 0.6989 - 946ms/epoch - 4ms/step\n",
      "Epoch 72/100\n",
      "250/250 - 1s - loss: 0.4175 - accuracy: 0.8022 - val_loss: 0.5921 - val_accuracy: 0.7009 - 1s/epoch - 4ms/step\n",
      "Epoch 73/100\n",
      "250/250 - 1s - loss: 0.4157 - accuracy: 0.8021 - val_loss: 0.5903 - val_accuracy: 0.7006 - 942ms/epoch - 4ms/step\n",
      "Epoch 74/100\n",
      "250/250 - 1s - loss: 0.4151 - accuracy: 0.8036 - val_loss: 0.5905 - val_accuracy: 0.6976 - 967ms/epoch - 4ms/step\n",
      "Epoch 75/100\n",
      "250/250 - 1s - loss: 0.4138 - accuracy: 0.8047 - val_loss: 0.5904 - val_accuracy: 0.6999 - 1s/epoch - 4ms/step\n",
      "Epoch 76/100\n",
      "250/250 - 1s - loss: 0.4139 - accuracy: 0.8043 - val_loss: 0.5872 - val_accuracy: 0.7015 - 949ms/epoch - 4ms/step\n",
      "Epoch 77/100\n",
      "250/250 - 1s - loss: 0.4116 - accuracy: 0.8055 - val_loss: 0.5982 - val_accuracy: 0.6985 - 939ms/epoch - 4ms/step\n",
      "Epoch 78/100\n",
      "250/250 - 1s - loss: 0.4135 - accuracy: 0.8048 - val_loss: 0.5872 - val_accuracy: 0.7009 - 935ms/epoch - 4ms/step\n",
      "Epoch 79/100\n",
      "250/250 - 1s - loss: 0.4101 - accuracy: 0.8067 - val_loss: 0.5938 - val_accuracy: 0.6986 - 922ms/epoch - 4ms/step\n",
      "Epoch 80/100\n",
      "250/250 - 1s - loss: 0.4083 - accuracy: 0.8080 - val_loss: 0.5920 - val_accuracy: 0.6990 - 917ms/epoch - 4ms/step\n",
      "Epoch 81/100\n",
      "250/250 - 1s - loss: 0.4089 - accuracy: 0.8076 - val_loss: 0.5866 - val_accuracy: 0.7002 - 1s/epoch - 4ms/step\n",
      "Epoch 82/100\n",
      "250/250 - 1s - loss: 0.4088 - accuracy: 0.8079 - val_loss: 0.5875 - val_accuracy: 0.7010 - 1s/epoch - 4ms/step\n",
      "Epoch 83/100\n",
      "250/250 - 1s - loss: 0.4080 - accuracy: 0.8073 - val_loss: 0.5889 - val_accuracy: 0.7016 - 934ms/epoch - 4ms/step\n",
      "Epoch 84/100\n",
      "250/250 - 1s - loss: 0.4049 - accuracy: 0.8089 - val_loss: 0.5896 - val_accuracy: 0.7017 - 924ms/epoch - 4ms/step\n",
      "Epoch 85/100\n",
      "250/250 - 1s - loss: 0.4051 - accuracy: 0.8099 - val_loss: 0.5915 - val_accuracy: 0.6999 - 971ms/epoch - 4ms/step\n",
      "Epoch 86/100\n",
      "250/250 - 1s - loss: 0.4072 - accuracy: 0.8083 - val_loss: 0.5870 - val_accuracy: 0.7017 - 987ms/epoch - 4ms/step\n",
      "Epoch 87/100\n",
      "250/250 - 1s - loss: 0.4044 - accuracy: 0.8092 - val_loss: 0.5838 - val_accuracy: 0.7019 - 938ms/epoch - 4ms/step\n",
      "Epoch 88/100\n",
      "250/250 - 1s - loss: 0.4047 - accuracy: 0.8101 - val_loss: 0.5878 - val_accuracy: 0.7003 - 956ms/epoch - 4ms/step\n",
      "Epoch 89/100\n",
      "250/250 - 1s - loss: 0.4019 - accuracy: 0.8117 - val_loss: 0.5918 - val_accuracy: 0.7036 - 1s/epoch - 4ms/step\n",
      "Epoch 90/100\n",
      "250/250 - 1s - loss: 0.4022 - accuracy: 0.8104 - val_loss: 0.5919 - val_accuracy: 0.7017 - 948ms/epoch - 4ms/step\n",
      "Epoch 91/100\n",
      "250/250 - 1s - loss: 0.4010 - accuracy: 0.8110 - val_loss: 0.5914 - val_accuracy: 0.7029 - 1s/epoch - 4ms/step\n",
      "Epoch 92/100\n",
      "250/250 - 1s - loss: 0.4017 - accuracy: 0.8106 - val_loss: 0.5891 - val_accuracy: 0.7027 - 940ms/epoch - 4ms/step\n",
      "Epoch 93/100\n",
      "250/250 - 1s - loss: 0.3995 - accuracy: 0.8128 - val_loss: 0.5917 - val_accuracy: 0.7023 - 1s/epoch - 4ms/step\n",
      "Epoch 94/100\n",
      "250/250 - 1s - loss: 0.3999 - accuracy: 0.8132 - val_loss: 0.5920 - val_accuracy: 0.7021 - 940ms/epoch - 4ms/step\n",
      "Epoch 95/100\n",
      "250/250 - 1s - loss: 0.3998 - accuracy: 0.8127 - val_loss: 0.5910 - val_accuracy: 0.7021 - 1s/epoch - 4ms/step\n",
      "Epoch 96/100\n",
      "250/250 - 1s - loss: 0.3979 - accuracy: 0.8132 - val_loss: 0.5913 - val_accuracy: 0.7027 - 947ms/epoch - 4ms/step\n",
      "Epoch 97/100\n",
      "250/250 - 1s - loss: 0.3976 - accuracy: 0.8134 - val_loss: 0.5926 - val_accuracy: 0.7028 - 1s/epoch - 4ms/step\n",
      "Epoch 98/100\n",
      "250/250 - 1s - loss: 0.3959 - accuracy: 0.8172 - val_loss: 0.5959 - val_accuracy: 0.7034 - 962ms/epoch - 4ms/step\n",
      "Epoch 99/100\n",
      "250/250 - 1s - loss: 0.3975 - accuracy: 0.8140 - val_loss: 0.5912 - val_accuracy: 0.7033 - 1s/epoch - 4ms/step\n",
      "Epoch 100/100\n",
      "250/250 - 1s - loss: 0.3940 - accuracy: 0.8166 - val_loss: 0.5927 - val_accuracy: 0.7028 - 1s/epoch - 4ms/step\n"
     ]
    }
   ],
   "source": [
    "BATCH_SIZE = 512\n",
    "HIDDEN_LAYER_SIZE = 256\n",
    "\n",
    "# define the 77-128-128-128-1 architecture using Keras\n",
    "model = Sequential()\n",
    "\n",
    "model.add(Dense(77, input_shape=(77,), activation=\"relu\"))\n",
    "\n",
    "for i in range(3):\n",
    "  model.add(Dense(HIDDEN_LAYER_SIZE, activation=\"relu\"))\n",
    "  model.add(Dropout(0.2))\n",
    "\n",
    "model.add(Dense(1, activation=\"sigmoid\"))\n",
    "\n",
    "opt = keras.optimizers.Adam(learning_rate=0.001)\n",
    "\n",
    "model.compile(optimizer=opt,\n",
    "              loss='binary_crossentropy',\n",
    "              metrics=['accuracy'])\n",
    "\n",
    "\n",
    "H = model.fit(X_train_scaled, \n",
    "              y_train, epochs=100, \n",
    "              batch_size=BATCH_SIZE,\n",
    "              use_multiprocessing=True,\n",
    "              validation_data=(X_test_scaled, y_test),\n",
    "              verbose = 2)"
   ]
  },
  {
   "cell_type": "code",
   "execution_count": null,
   "metadata": {
    "colab": {
     "base_uri": "https://localhost:8080/",
     "height": 295
    },
    "id": "3U9jcUGfxRyf",
    "outputId": "c5ab8e22-8fc3-49da-c6a5-29418bd42519"
   },
   "outputs": [
    {
     "data": {
      "image/png": "[encoded data removed]",
      "text/plain": [
       "<Figure size 432x288 with 1 Axes>"
      ]
     },
     "metadata": {
      "needs_background": "light"
     },
     "output_type": "display_data"
    }
   ],
   "source": [
    "plt.plot(H.history['accuracy'])\n",
    "plt.plot(H.history['val_accuracy'])\n",
    "plt.title('Model accuracy')\n",
    "plt.ylabel('Accuracy')\n",
    "plt.xlabel('Epoch')\n",
    "plt.legend(['Train accuracy', 'Test accuracy'], loc='upper left')\n",
    "plt.savefig('Q3c(b)accuracy.png')"
   ]
  },
  {
   "cell_type": "markdown",
   "metadata": {
    "id": "QXUbNBsVxX1U"
   },
   "source": [
    "d) How does dropouts work, and what is the purpose of dropouts?\n",
    "\n",
    "Dropout is a technique where randomly selected neurons are ignored during training. They are “dropped out” randomly. This means that their contribution to the activation of downstream neurons is temporally removed on the forward pass, and any weight updates are not applied to the neuron on the backward pass."
   ]
  },
  {
   "cell_type": "code",
   "execution_count": null,
   "metadata": {
    "id": "5Ec3W4adxZLn"
   },
   "outputs": [],
   "source": []
  },
  {
   "cell_type": "markdown",
   "metadata": {
    "id": "gHWSGKpbxbEx"
   },
   "source": [
    "e) Besides early stopping and dropout, what is another approach that you could\n",
    "take to address overfitting in the model, and how does it work? Implement the\n",
    "approach.\n",
    "\n",
    "Note: use this optimal number of neurons for the rest of the experiments.\n",
    "\n",
    "Regularization"
   ]
  },
  {
   "cell_type": "code",
   "execution_count": null,
   "metadata": {
    "id": "g-l3tS2xxcR3"
   },
   "outputs": [],
   "source": []
  },
  {
   "cell_type": "markdown",
   "metadata": {
    "id": "aYFa1qsDxfo3"
   },
   "source": [
    "##Question 4\n",
    "In this section, we will understand the utility of such a neural network in real world scenarios."
   ]
  },
  {
   "cell_type": "code",
   "execution_count": null,
   "metadata": {
    "id": "11y9cLgFxiqG"
   },
   "outputs": [],
   "source": []
  },
  {
   "cell_type": "markdown",
   "metadata": {
    "id": "fKr3K-Gbxryp"
   },
   "source": [
    "a) Record yourself with a wav file using (https://voice-recorder-online.com/) for 5\n",
    "seconds, either in a positive or a negative manner. Preprocess the data using the\n",
    "provided preprocessing script (data_preprocess.ipynb) and prepare the dataset."
   ]
  },
  {
   "cell_type": "code",
   "execution_count": null,
   "metadata": {
    "id": "I2kpowNzxtLG"
   },
   "outputs": [],
   "source": []
  },
  {
   "cell_type": "markdown",
   "metadata": {
    "id": "KRXqua8qygJg"
   },
   "source": [
    "b) Do a model prediction on your sample test dataset and obtain the predicted label\n",
    "using a threshold of 0.5. The model used is the optimized pretrained model using the\n",
    "selected optimal batch size and optimal number of neurons."
   ]
  },
  {
   "cell_type": "code",
   "execution_count": null,
   "metadata": {
    "id": "nLE7wemAygoO"
   },
   "outputs": [],
   "source": []
  },
  {
   "cell_type": "markdown",
   "metadata": {
    "id": "_TDO-MJ1ykf_"
   },
   "source": [
    "c) Find the most important features on the model prediction for your test sample\n",
    "using SHAP. Plot the local feature importance with a force plot and explain your\n",
    "observations. (Refer to the documentation and these three useful references:\n",
    "\n",
    "https://christophm.github.io/interpretable-ml-book/shap.html#examples-5,\n",
    "\n",
    "https://towardsdatascience.com/deep-learning-model-interpretation-using-shap-a21786e91d16,\n",
    "\n",
    "https://medium.com/mlearning-ai/shap-force-plots-for-classification-d30be430e195)"
   ]
  },
  {
   "cell_type": "code",
   "execution_count": null,
   "metadata": {
    "id": "jI4i3gsCyk_u"
   },
   "outputs": [],
   "source": []
  }
 ],
 "metadata": {
  "accelerator": "GPU",
  "colab": {
   "collapsed_sections": [
    "avcaoE6Oe9mL"
   ],
   "provenance": []
  },
  "kernelspec": {
   "display_name": "Python 3 (ipykernel)",
   "language": "python",
   "name": "python3"
  },
  "language_info": {
   "codemirror_mode": {
    "name": "ipython",
    "version": 3
   },
   "file_extension": ".py",
   "mimetype": "text/x-python",
   "name": "python",
   "nbconvert_exporter": "python",
   "pygments_lexer": "ipython3",
   "version": "3.9.6"
  }
 },
 "nbformat": 4,
 "nbformat_minor": 4
}
